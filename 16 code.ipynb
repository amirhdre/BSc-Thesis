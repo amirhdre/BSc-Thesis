{
 "cells": [
  {
   "cell_type": "markdown",
   "metadata": {},
   "source": [
    "# Feature extraction from augmented data"
   ]
  },
  {
   "cell_type": "markdown",
   "metadata": {},
   "source": [
    "Most of this code is similar to `10-code.ipynb` file. Where I extract features from my recordings."
   ]
  },
  {
   "cell_type": "code",
   "execution_count": 1,
   "metadata": {},
   "outputs": [],
   "source": [
    "import numpy as np\n",
    "import mne\n",
    "from scipy import signal\n",
    "from scipy.interpolate import RectBivariateSpline\n",
    "from mne.filter import resample, filter_data\n",
    "import pandas as pd\n",
    "import seaborn as sns\n",
    "import matplotlib.pyplot as plt\n",
    "from lspopt import spectrogram_lspopt\n",
    "from matplotlib.colors import Normalize, ListedColormap\n",
    "\n",
    "import logging\n",
    "LOGGING_TYPES = dict(DEBUG=logging.DEBUG, INFO=logging.INFO, WARNING=logging.WARNING,\n",
    "                     ERROR=logging.ERROR, CRITICAL=logging.CRITICAL)\n",
    "logger = logging.getLogger('yasa')\n",
    "\n",
    "%matplotlib qt\n"
   ]
  },
  {
   "cell_type": "code",
   "execution_count": 2,
   "metadata": {},
   "outputs": [
    {
     "data": {
      "text/html": [
       "<div>\n",
       "<style scoped>\n",
       "    .dataframe tbody tr th:only-of-type {\n",
       "        vertical-align: middle;\n",
       "    }\n",
       "\n",
       "    .dataframe tbody tr th {\n",
       "        vertical-align: top;\n",
       "    }\n",
       "\n",
       "    .dataframe thead th {\n",
       "        text-align: right;\n",
       "    }\n",
       "</style>\n",
       "<table border=\"1\" class=\"dataframe\">\n",
       "  <thead>\n",
       "    <tr style=\"text-align: right;\">\n",
       "      <th></th>\n",
       "      <th>hypno</th>\n",
       "      <th>df_feat</th>\n",
       "      <th>eeg</th>\n",
       "    </tr>\n",
       "    <tr>\n",
       "      <th>name</th>\n",
       "      <th></th>\n",
       "      <th></th>\n",
       "      <th></th>\n",
       "    </tr>\n",
       "  </thead>\n",
       "  <tbody>\n",
       "    <tr>\n",
       "      <th>P18_N3 L</th>\n",
       "      <td>/Users/amirhosseindaraie/Desktop/data/synced-h...</td>\n",
       "      <td>feature/P18_N3 L.csv</td>\n",
       "      <td>/Users/amirhosseindaraie/Desktop/data/autoscor...</td>\n",
       "    </tr>\n",
       "    <tr>\n",
       "      <th>P18_N2 R</th>\n",
       "      <td>/Users/amirhosseindaraie/Desktop/data/synced-h...</td>\n",
       "      <td>feature/P18_N2 R.csv</td>\n",
       "      <td>/Users/amirhosseindaraie/Desktop/data/autoscor...</td>\n",
       "    </tr>\n",
       "    <tr>\n",
       "      <th>P17_N2 L</th>\n",
       "      <td>/Users/amirhosseindaraie/Desktop/data/synced-h...</td>\n",
       "      <td>feature/P17_N2 L.csv</td>\n",
       "      <td>/Users/amirhosseindaraie/Desktop/data/autoscor...</td>\n",
       "    </tr>\n",
       "  </tbody>\n",
       "</table>\n",
       "</div>"
      ],
      "text/plain": [
       "                                                      hypno  \\\n",
       "name                                                          \n",
       "P18_N3 L  /Users/amirhosseindaraie/Desktop/data/synced-h...   \n",
       "P18_N2 R  /Users/amirhosseindaraie/Desktop/data/synced-h...   \n",
       "P17_N2 L  /Users/amirhosseindaraie/Desktop/data/synced-h...   \n",
       "\n",
       "                       df_feat  \\\n",
       "name                             \n",
       "P18_N3 L  feature/P18_N3 L.csv   \n",
       "P18_N2 R  feature/P18_N2 R.csv   \n",
       "P17_N2 L  feature/P17_N2 L.csv   \n",
       "\n",
       "                                                        eeg  \n",
       "name                                                         \n",
       "P18_N3 L  /Users/amirhosseindaraie/Desktop/data/autoscor...  \n",
       "P18_N2 R  /Users/amirhosseindaraie/Desktop/data/autoscor...  \n",
       "P17_N2 L  /Users/amirhosseindaraie/Desktop/data/autoscor...  "
      ]
     },
     "execution_count": 2,
     "metadata": {},
     "output_type": "execute_result"
    }
   ],
   "source": [
    "# load reference_df     \n",
    "reference_df = pd.read_csv(\"reference_df.csv\", index_col=\"name\")\n",
    "reference_df.head(3)"
   ]
  },
  {
   "cell_type": "code",
   "execution_count": 3,
   "metadata": {},
   "outputs": [
    {
     "name": "stdout",
     "output_type": "stream",
     "text": [
      "(2172, 7680)\n",
      "P18_N2 R => Duration: 65160.0 (sec) OR 18:06:00\n"
     ]
    },
    {
     "name": "stderr",
     "output_type": "stream",
     "text": [
      "/var/folders/c4/x03my2dj70s46m109bn58l2m0000gn/T/ipykernel_81759/1497492364.py:40: FutureWarning: Passing a negative integer is deprecated in version 1.0 and will not be supported in future version. Instead, use None to not limit the column width.\n",
      "  pd.set_option(\"max_colwidth\", -1)\n",
      "/var/folders/c4/x03my2dj70s46m109bn58l2m0000gn/T/ipykernel_81759/1497492364.py:571: DeprecationWarning: Using or importing the ABCs from 'collections' instead of from 'collections.abc' is deprecated since Python 3.3, and in 3.10 it will stop working\n",
      "  if isinstance(axis, collections.Iterable):\n"
     ]
    },
    {
     "name": "stdout",
     "output_type": "stream",
     "text": [
      "Outliers are detected in 0 points.\n",
      "Outliers are detected in 0 points.\n",
      "Outliers are detected in 22 points.\n",
      "Outliers are detected in 19 points.\n"
     ]
    },
    {
     "name": "stderr",
     "output_type": "stream",
     "text": [
      "/Users/amirhosseindaraie/miniconda3/envs/mne/lib/python3.9/site-packages/scipy/stats/_entropy.py:293: RuntimeWarning: divide by zero encountered in log\n",
      "  logs = np.log(n/(2*m) * differences)\n"
     ]
    },
    {
     "name": "stdout",
     "output_type": "stream",
     "text": [
      "================= DONE P18_N2 R ===================\n",
      "(2281, 7680)\n",
      "P17_N2 L => Duration: 68430.0 (sec) OR 19:00:30\n"
     ]
    },
    {
     "name": "stderr",
     "output_type": "stream",
     "text": [
      "/var/folders/c4/x03my2dj70s46m109bn58l2m0000gn/T/ipykernel_81759/1497492364.py:40: FutureWarning: Passing a negative integer is deprecated in version 1.0 and will not be supported in future version. Instead, use None to not limit the column width.\n",
      "  pd.set_option(\"max_colwidth\", -1)\n"
     ]
    },
    {
     "name": "stdout",
     "output_type": "stream",
     "text": [
      "Outliers are detected in 60 points.\n",
      "Outliers are detected in 2 points.\n",
      "Outliers are detected in 74 points.\n",
      "Outliers are detected in 55 points.\n"
     ]
    },
    {
     "name": "stderr",
     "output_type": "stream",
     "text": [
      "/Users/amirhosseindaraie/miniconda3/envs/mne/lib/python3.9/site-packages/scipy/stats/_entropy.py:293: RuntimeWarning: divide by zero encountered in log\n",
      "  logs = np.log(n/(2*m) * differences)\n"
     ]
    },
    {
     "name": "stdout",
     "output_type": "stream",
     "text": [
      "================= DONE P17_N2 L ===================\n",
      "(2040, 7680)\n",
      "P15_N3 L => Duration: 61200.0 (sec) OR 17:00:00\n"
     ]
    },
    {
     "name": "stderr",
     "output_type": "stream",
     "text": [
      "/var/folders/c4/x03my2dj70s46m109bn58l2m0000gn/T/ipykernel_81759/1497492364.py:40: FutureWarning: Passing a negative integer is deprecated in version 1.0 and will not be supported in future version. Instead, use None to not limit the column width.\n",
      "  pd.set_option(\"max_colwidth\", -1)\n"
     ]
    },
    {
     "name": "stdout",
     "output_type": "stream",
     "text": [
      "Outliers are detected in 52 points.\n",
      "Outliers are detected in 0 points.\n",
      "Outliers are detected in 2 points.\n",
      "Outliers are detected in 15 points.\n"
     ]
    },
    {
     "name": "stderr",
     "output_type": "stream",
     "text": [
      "/Users/amirhosseindaraie/miniconda3/envs/mne/lib/python3.9/site-packages/scipy/stats/_entropy.py:293: RuntimeWarning: divide by zero encountered in log\n",
      "  logs = np.log(n/(2*m) * differences)\n"
     ]
    },
    {
     "name": "stdout",
     "output_type": "stream",
     "text": [
      "================= DONE P15_N3 L ===================\n",
      "(1660, 7680)\n",
      "P15_N2 L => Duration: 49800.0 (sec) OR 13:50:00\n"
     ]
    },
    {
     "name": "stderr",
     "output_type": "stream",
     "text": [
      "/var/folders/c4/x03my2dj70s46m109bn58l2m0000gn/T/ipykernel_81759/1497492364.py:40: FutureWarning: Passing a negative integer is deprecated in version 1.0 and will not be supported in future version. Instead, use None to not limit the column width.\n",
      "  pd.set_option(\"max_colwidth\", -1)\n"
     ]
    },
    {
     "name": "stdout",
     "output_type": "stream",
     "text": [
      "Outliers are detected in 0 points.\n",
      "Outliers are detected in 0 points.\n",
      "Outliers are detected in 153 points.\n",
      "Outliers are detected in 97 points.\n"
     ]
    },
    {
     "name": "stderr",
     "output_type": "stream",
     "text": [
      "/Users/amirhosseindaraie/miniconda3/envs/mne/lib/python3.9/site-packages/scipy/stats/_entropy.py:293: RuntimeWarning: divide by zero encountered in log\n",
      "  logs = np.log(n/(2*m) * differences)\n"
     ]
    },
    {
     "name": "stdout",
     "output_type": "stream",
     "text": [
      "================= DONE P15_N2 L ===================\n",
      "(1960, 7680)\n",
      "P13_N3 L => Duration: 58800.0 (sec) OR 16:20:00\n"
     ]
    },
    {
     "name": "stderr",
     "output_type": "stream",
     "text": [
      "/var/folders/c4/x03my2dj70s46m109bn58l2m0000gn/T/ipykernel_81759/1497492364.py:40: FutureWarning: Passing a negative integer is deprecated in version 1.0 and will not be supported in future version. Instead, use None to not limit the column width.\n",
      "  pd.set_option(\"max_colwidth\", -1)\n"
     ]
    },
    {
     "name": "stdout",
     "output_type": "stream",
     "text": [
      "Outliers are detected in 10 points.\n",
      "Outliers are detected in 1 points.\n",
      "Outliers are detected in 7 points.\n",
      "Outliers are detected in 27 points.\n"
     ]
    },
    {
     "name": "stderr",
     "output_type": "stream",
     "text": [
      "/Users/amirhosseindaraie/miniconda3/envs/mne/lib/python3.9/site-packages/scipy/stats/_entropy.py:293: RuntimeWarning: divide by zero encountered in log\n",
      "  logs = np.log(n/(2*m) * differences)\n"
     ]
    },
    {
     "name": "stdout",
     "output_type": "stream",
     "text": [
      "================= DONE P13_N3 L ===================\n",
      "(1630, 7680)\n",
      "P13_N2 L => Duration: 48900.0 (sec) OR 13:35:00\n"
     ]
    },
    {
     "name": "stderr",
     "output_type": "stream",
     "text": [
      "/var/folders/c4/x03my2dj70s46m109bn58l2m0000gn/T/ipykernel_81759/1497492364.py:40: FutureWarning: Passing a negative integer is deprecated in version 1.0 and will not be supported in future version. Instead, use None to not limit the column width.\n",
      "  pd.set_option(\"max_colwidth\", -1)\n"
     ]
    },
    {
     "name": "stdout",
     "output_type": "stream",
     "text": [
      "Outliers are detected in 6 points.\n",
      "Outliers are detected in 6 points.\n",
      "Outliers are detected in 15 points.\n",
      "Outliers are detected in 65 points.\n"
     ]
    },
    {
     "name": "stderr",
     "output_type": "stream",
     "text": [
      "/Users/amirhosseindaraie/miniconda3/envs/mne/lib/python3.9/site-packages/scipy/stats/_entropy.py:293: RuntimeWarning: divide by zero encountered in log\n",
      "  logs = np.log(n/(2*m) * differences)\n"
     ]
    },
    {
     "name": "stdout",
     "output_type": "stream",
     "text": [
      "================= DONE P13_N2 L ===================\n",
      "(2177, 7680)\n",
      "P12_N3 L => Duration: 65310.0 (sec) OR 18:08:30\n"
     ]
    },
    {
     "name": "stderr",
     "output_type": "stream",
     "text": [
      "/var/folders/c4/x03my2dj70s46m109bn58l2m0000gn/T/ipykernel_81759/1497492364.py:40: FutureWarning: Passing a negative integer is deprecated in version 1.0 and will not be supported in future version. Instead, use None to not limit the column width.\n",
      "  pd.set_option(\"max_colwidth\", -1)\n"
     ]
    },
    {
     "name": "stdout",
     "output_type": "stream",
     "text": [
      "Outliers are detected in 17 points.\n",
      "Outliers are detected in 0 points.\n",
      "Outliers are detected in 10 points.\n",
      "Outliers are detected in 50 points.\n"
     ]
    },
    {
     "name": "stderr",
     "output_type": "stream",
     "text": [
      "/Users/amirhosseindaraie/miniconda3/envs/mne/lib/python3.9/site-packages/scipy/stats/_entropy.py:293: RuntimeWarning: divide by zero encountered in log\n",
      "  logs = np.log(n/(2*m) * differences)\n"
     ]
    },
    {
     "name": "stdout",
     "output_type": "stream",
     "text": [
      "================= DONE P12_N3 L ===================\n",
      "(2210, 7680)\n",
      "P11_N3 L => Duration: 66300.0 (sec) OR 18:25:00\n"
     ]
    },
    {
     "name": "stderr",
     "output_type": "stream",
     "text": [
      "/var/folders/c4/x03my2dj70s46m109bn58l2m0000gn/T/ipykernel_81759/1497492364.py:40: FutureWarning: Passing a negative integer is deprecated in version 1.0 and will not be supported in future version. Instead, use None to not limit the column width.\n",
      "  pd.set_option(\"max_colwidth\", -1)\n"
     ]
    },
    {
     "name": "stdout",
     "output_type": "stream",
     "text": [
      "Outliers are detected in 98 points.\n",
      "Outliers are detected in 8 points.\n",
      "Outliers are detected in 71 points.\n",
      "Outliers are detected in 95 points.\n"
     ]
    },
    {
     "name": "stderr",
     "output_type": "stream",
     "text": [
      "/Users/amirhosseindaraie/miniconda3/envs/mne/lib/python3.9/site-packages/scipy/stats/_entropy.py:293: RuntimeWarning: divide by zero encountered in log\n",
      "  logs = np.log(n/(2*m) * differences)\n"
     ]
    },
    {
     "name": "stdout",
     "output_type": "stream",
     "text": [
      "================= DONE P11_N3 L ===================\n",
      "(2707, 7680)\n",
      "P8_N3 L => Duration: 81210.0 (sec) OR 22:33:30\n"
     ]
    },
    {
     "name": "stderr",
     "output_type": "stream",
     "text": [
      "/var/folders/c4/x03my2dj70s46m109bn58l2m0000gn/T/ipykernel_81759/1497492364.py:40: FutureWarning: Passing a negative integer is deprecated in version 1.0 and will not be supported in future version. Instead, use None to not limit the column width.\n",
      "  pd.set_option(\"max_colwidth\", -1)\n"
     ]
    },
    {
     "name": "stdout",
     "output_type": "stream",
     "text": [
      "Outliers are detected in 8 points.\n",
      "Outliers are detected in 0 points.\n",
      "Outliers are detected in 26 points.\n",
      "Outliers are detected in 10 points.\n"
     ]
    },
    {
     "name": "stderr",
     "output_type": "stream",
     "text": [
      "/Users/amirhosseindaraie/miniconda3/envs/mne/lib/python3.9/site-packages/scipy/stats/_entropy.py:293: RuntimeWarning: divide by zero encountered in log\n",
      "  logs = np.log(n/(2*m) * differences)\n"
     ]
    },
    {
     "name": "stdout",
     "output_type": "stream",
     "text": [
      "================= DONE P8_N3 L ===================\n",
      "(1663, 7680)\n",
      "QS 11 L => Duration: 49890.0 (sec) OR 13:51:30\n"
     ]
    },
    {
     "name": "stderr",
     "output_type": "stream",
     "text": [
      "/var/folders/c4/x03my2dj70s46m109bn58l2m0000gn/T/ipykernel_81759/1497492364.py:40: FutureWarning: Passing a negative integer is deprecated in version 1.0 and will not be supported in future version. Instead, use None to not limit the column width.\n",
      "  pd.set_option(\"max_colwidth\", -1)\n"
     ]
    },
    {
     "name": "stdout",
     "output_type": "stream",
     "text": [
      "Outliers are detected in 45 points.\n",
      "Outliers are detected in 4 points.\n",
      "Outliers are detected in 30 points.\n",
      "Outliers are detected in 62 points.\n"
     ]
    },
    {
     "name": "stderr",
     "output_type": "stream",
     "text": [
      "/Users/amirhosseindaraie/miniconda3/envs/mne/lib/python3.9/site-packages/scipy/stats/_entropy.py:293: RuntimeWarning: divide by zero encountered in log\n",
      "  logs = np.log(n/(2*m) * differences)\n"
     ]
    },
    {
     "name": "stdout",
     "output_type": "stream",
     "text": [
      "================= DONE QS 11 L ===================\n",
      "(1940, 7680)\n",
      "QS 12 R => Duration: 58200.0 (sec) OR 16:10:00\n"
     ]
    },
    {
     "name": "stderr",
     "output_type": "stream",
     "text": [
      "/var/folders/c4/x03my2dj70s46m109bn58l2m0000gn/T/ipykernel_81759/1497492364.py:40: FutureWarning: Passing a negative integer is deprecated in version 1.0 and will not be supported in future version. Instead, use None to not limit the column width.\n",
      "  pd.set_option(\"max_colwidth\", -1)\n"
     ]
    },
    {
     "name": "stdout",
     "output_type": "stream",
     "text": [
      "Outliers are detected in 19 points.\n",
      "Outliers are detected in 0 points.\n",
      "Outliers are detected in 38 points.\n",
      "Outliers are detected in 67 points.\n"
     ]
    },
    {
     "name": "stderr",
     "output_type": "stream",
     "text": [
      "/Users/amirhosseindaraie/miniconda3/envs/mne/lib/python3.9/site-packages/scipy/stats/_entropy.py:293: RuntimeWarning: divide by zero encountered in log\n",
      "  logs = np.log(n/(2*m) * differences)\n"
     ]
    },
    {
     "name": "stdout",
     "output_type": "stream",
     "text": [
      "================= DONE QS 12 R ===================\n",
      "(2301, 7680)\n",
      "QS 13 L => Duration: 69030.0 (sec) OR 19:10:30\n"
     ]
    },
    {
     "name": "stderr",
     "output_type": "stream",
     "text": [
      "/var/folders/c4/x03my2dj70s46m109bn58l2m0000gn/T/ipykernel_81759/1497492364.py:40: FutureWarning: Passing a negative integer is deprecated in version 1.0 and will not be supported in future version. Instead, use None to not limit the column width.\n",
      "  pd.set_option(\"max_colwidth\", -1)\n"
     ]
    },
    {
     "name": "stdout",
     "output_type": "stream",
     "text": [
      "Outliers are detected in 11 points.\n",
      "Outliers are detected in 1 points.\n",
      "Outliers are detected in 1 points.\n",
      "Outliers are detected in 197 points.\n"
     ]
    },
    {
     "name": "stderr",
     "output_type": "stream",
     "text": [
      "/Users/amirhosseindaraie/miniconda3/envs/mne/lib/python3.9/site-packages/scipy/stats/_entropy.py:293: RuntimeWarning: divide by zero encountered in log\n",
      "  logs = np.log(n/(2*m) * differences)\n"
     ]
    },
    {
     "name": "stdout",
     "output_type": "stream",
     "text": [
      "================= DONE QS 13 L ===================\n",
      "(2507, 7680)\n",
      "QS 15 L => Duration: 75210.0 (sec) OR 20:53:30\n"
     ]
    },
    {
     "name": "stderr",
     "output_type": "stream",
     "text": [
      "/var/folders/c4/x03my2dj70s46m109bn58l2m0000gn/T/ipykernel_81759/1497492364.py:40: FutureWarning: Passing a negative integer is deprecated in version 1.0 and will not be supported in future version. Instead, use None to not limit the column width.\n",
      "  pd.set_option(\"max_colwidth\", -1)\n"
     ]
    },
    {
     "name": "stdout",
     "output_type": "stream",
     "text": [
      "Outliers are detected in 28 points.\n",
      "Outliers are detected in 3 points.\n",
      "Outliers are detected in 17 points.\n",
      "Outliers are detected in 98 points.\n"
     ]
    },
    {
     "name": "stderr",
     "output_type": "stream",
     "text": [
      "/Users/amirhosseindaraie/miniconda3/envs/mne/lib/python3.9/site-packages/scipy/stats/_entropy.py:293: RuntimeWarning: divide by zero encountered in log\n",
      "  logs = np.log(n/(2*m) * differences)\n"
     ]
    },
    {
     "name": "stdout",
     "output_type": "stream",
     "text": [
      "================= DONE QS 15 L ===================\n",
      "(1837, 7680)\n",
      "QS 16 L => Duration: 55110.0 (sec) OR 15:18:30\n"
     ]
    },
    {
     "name": "stderr",
     "output_type": "stream",
     "text": [
      "/var/folders/c4/x03my2dj70s46m109bn58l2m0000gn/T/ipykernel_81759/1497492364.py:40: FutureWarning: Passing a negative integer is deprecated in version 1.0 and will not be supported in future version. Instead, use None to not limit the column width.\n",
      "  pd.set_option(\"max_colwidth\", -1)\n"
     ]
    },
    {
     "name": "stdout",
     "output_type": "stream",
     "text": [
      "Outliers are detected in 28 points.\n",
      "Outliers are detected in 2 points.\n",
      "Outliers are detected in 18 points.\n",
      "Outliers are detected in 43 points.\n"
     ]
    },
    {
     "name": "stderr",
     "output_type": "stream",
     "text": [
      "/Users/amirhosseindaraie/miniconda3/envs/mne/lib/python3.9/site-packages/scipy/stats/_entropy.py:293: RuntimeWarning: divide by zero encountered in log\n",
      "  logs = np.log(n/(2*m) * differences)\n"
     ]
    },
    {
     "name": "stdout",
     "output_type": "stream",
     "text": [
      "================= DONE QS 16 L ===================\n",
      "(2149, 7680)\n",
      "QS 18 R => Duration: 64470.0 (sec) OR 17:54:30\n"
     ]
    },
    {
     "name": "stderr",
     "output_type": "stream",
     "text": [
      "/var/folders/c4/x03my2dj70s46m109bn58l2m0000gn/T/ipykernel_81759/1497492364.py:40: FutureWarning: Passing a negative integer is deprecated in version 1.0 and will not be supported in future version. Instead, use None to not limit the column width.\n",
      "  pd.set_option(\"max_colwidth\", -1)\n"
     ]
    },
    {
     "name": "stdout",
     "output_type": "stream",
     "text": [
      "Outliers are detected in 71 points.\n",
      "Outliers are detected in 0 points.\n",
      "Outliers are detected in 10 points.\n",
      "Outliers are detected in 71 points.\n"
     ]
    },
    {
     "name": "stderr",
     "output_type": "stream",
     "text": [
      "/Users/amirhosseindaraie/miniconda3/envs/mne/lib/python3.9/site-packages/scipy/stats/_entropy.py:293: RuntimeWarning: divide by zero encountered in log\n",
      "  logs = np.log(n/(2*m) * differences)\n"
     ]
    },
    {
     "name": "stdout",
     "output_type": "stream",
     "text": [
      "================= DONE QS 18 R ===================\n",
      "(2296, 7680)\n",
      "QS 19 L => Duration: 68880.0 (sec) OR 19:08:00\n"
     ]
    },
    {
     "name": "stderr",
     "output_type": "stream",
     "text": [
      "/var/folders/c4/x03my2dj70s46m109bn58l2m0000gn/T/ipykernel_81759/1497492364.py:40: FutureWarning: Passing a negative integer is deprecated in version 1.0 and will not be supported in future version. Instead, use None to not limit the column width.\n",
      "  pd.set_option(\"max_colwidth\", -1)\n"
     ]
    },
    {
     "name": "stdout",
     "output_type": "stream",
     "text": [
      "Outliers are detected in 48 points.\n",
      "Outliers are detected in 1 points.\n",
      "Outliers are detected in 116 points.\n",
      "Outliers are detected in 97 points.\n"
     ]
    },
    {
     "name": "stderr",
     "output_type": "stream",
     "text": [
      "/Users/amirhosseindaraie/miniconda3/envs/mne/lib/python3.9/site-packages/scipy/stats/_entropy.py:293: RuntimeWarning: divide by zero encountered in log\n",
      "  logs = np.log(n/(2*m) * differences)\n"
     ]
    },
    {
     "name": "stdout",
     "output_type": "stream",
     "text": [
      "================= DONE QS 19 L ===================\n",
      "(1566, 7680)\n",
      "QS 20 R => Duration: 46980.0 (sec) OR 13:03:00\n"
     ]
    },
    {
     "name": "stderr",
     "output_type": "stream",
     "text": [
      "/var/folders/c4/x03my2dj70s46m109bn58l2m0000gn/T/ipykernel_81759/1497492364.py:40: FutureWarning: Passing a negative integer is deprecated in version 1.0 and will not be supported in future version. Instead, use None to not limit the column width.\n",
      "  pd.set_option(\"max_colwidth\", -1)\n"
     ]
    },
    {
     "name": "stdout",
     "output_type": "stream",
     "text": [
      "Outliers are detected in 22 points.\n",
      "Outliers are detected in 12 points.\n",
      "Outliers are detected in 44 points.\n",
      "Outliers are detected in 62 points.\n"
     ]
    },
    {
     "name": "stderr",
     "output_type": "stream",
     "text": [
      "/Users/amirhosseindaraie/miniconda3/envs/mne/lib/python3.9/site-packages/scipy/stats/_entropy.py:293: RuntimeWarning: divide by zero encountered in log\n",
      "  logs = np.log(n/(2*m) * differences)\n"
     ]
    },
    {
     "name": "stdout",
     "output_type": "stream",
     "text": [
      "================= DONE QS 20 R ===================\n",
      "(1952, 7680)\n",
      "QS 21 R => Duration: 58560.0 (sec) OR 16:16:00\n"
     ]
    },
    {
     "name": "stderr",
     "output_type": "stream",
     "text": [
      "/var/folders/c4/x03my2dj70s46m109bn58l2m0000gn/T/ipykernel_81759/1497492364.py:40: FutureWarning: Passing a negative integer is deprecated in version 1.0 and will not be supported in future version. Instead, use None to not limit the column width.\n",
      "  pd.set_option(\"max_colwidth\", -1)\n"
     ]
    },
    {
     "name": "stdout",
     "output_type": "stream",
     "text": [
      "Outliers are detected in 82 points.\n",
      "Outliers are detected in 14 points.\n",
      "Outliers are detected in 61 points.\n",
      "Outliers are detected in 114 points.\n"
     ]
    },
    {
     "name": "stderr",
     "output_type": "stream",
     "text": [
      "/Users/amirhosseindaraie/miniconda3/envs/mne/lib/python3.9/site-packages/scipy/stats/_entropy.py:293: RuntimeWarning: divide by zero encountered in log\n",
      "  logs = np.log(n/(2*m) * differences)\n"
     ]
    },
    {
     "name": "stdout",
     "output_type": "stream",
     "text": [
      "================= DONE QS 21 R ===================\n",
      "(1938, 7680)\n",
      "QS 22 L => Duration: 58140.0 (sec) OR 16:09:00\n"
     ]
    },
    {
     "name": "stderr",
     "output_type": "stream",
     "text": [
      "/var/folders/c4/x03my2dj70s46m109bn58l2m0000gn/T/ipykernel_81759/1497492364.py:40: FutureWarning: Passing a negative integer is deprecated in version 1.0 and will not be supported in future version. Instead, use None to not limit the column width.\n",
      "  pd.set_option(\"max_colwidth\", -1)\n"
     ]
    },
    {
     "name": "stdout",
     "output_type": "stream",
     "text": [
      "Outliers are detected in 31 points.\n",
      "Outliers are detected in 0 points.\n",
      "Outliers are detected in 19 points.\n",
      "Outliers are detected in 38 points.\n"
     ]
    },
    {
     "name": "stderr",
     "output_type": "stream",
     "text": [
      "/Users/amirhosseindaraie/miniconda3/envs/mne/lib/python3.9/site-packages/scipy/stats/_entropy.py:293: RuntimeWarning: divide by zero encountered in log\n",
      "  logs = np.log(n/(2*m) * differences)\n"
     ]
    },
    {
     "name": "stdout",
     "output_type": "stream",
     "text": [
      "================= DONE QS 22 L ===================\n",
      "(2249, 7680)\n",
      "QS 24 R => Duration: 67470.0 (sec) OR 18:44:30\n"
     ]
    },
    {
     "name": "stderr",
     "output_type": "stream",
     "text": [
      "/var/folders/c4/x03my2dj70s46m109bn58l2m0000gn/T/ipykernel_81759/1497492364.py:40: FutureWarning: Passing a negative integer is deprecated in version 1.0 and will not be supported in future version. Instead, use None to not limit the column width.\n",
      "  pd.set_option(\"max_colwidth\", -1)\n"
     ]
    },
    {
     "name": "stdout",
     "output_type": "stream",
     "text": [
      "Outliers are detected in 33 points.\n",
      "Outliers are detected in 0 points.\n",
      "Outliers are detected in 0 points.\n",
      "Outliers are detected in 60 points.\n"
     ]
    },
    {
     "name": "stderr",
     "output_type": "stream",
     "text": [
      "/Users/amirhosseindaraie/miniconda3/envs/mne/lib/python3.9/site-packages/scipy/stats/_entropy.py:293: RuntimeWarning: divide by zero encountered in log\n",
      "  logs = np.log(n/(2*m) * differences)\n"
     ]
    },
    {
     "name": "stdout",
     "output_type": "stream",
     "text": [
      "================= DONE QS 24 R ===================\n",
      "(2008, 7680)\n",
      "QS 25 R => Duration: 60240.0 (sec) OR 16:44:00\n"
     ]
    },
    {
     "name": "stderr",
     "output_type": "stream",
     "text": [
      "/var/folders/c4/x03my2dj70s46m109bn58l2m0000gn/T/ipykernel_81759/1497492364.py:40: FutureWarning: Passing a negative integer is deprecated in version 1.0 and will not be supported in future version. Instead, use None to not limit the column width.\n",
      "  pd.set_option(\"max_colwidth\", -1)\n"
     ]
    },
    {
     "name": "stdout",
     "output_type": "stream",
     "text": [
      "Outliers are detected in 115 points.\n",
      "Outliers are detected in 9 points.\n",
      "Outliers are detected in 81 points.\n",
      "Outliers are detected in 134 points.\n"
     ]
    },
    {
     "name": "stderr",
     "output_type": "stream",
     "text": [
      "/Users/amirhosseindaraie/miniconda3/envs/mne/lib/python3.9/site-packages/scipy/stats/_entropy.py:293: RuntimeWarning: divide by zero encountered in log\n",
      "  logs = np.log(n/(2*m) * differences)\n"
     ]
    },
    {
     "name": "stdout",
     "output_type": "stream",
     "text": [
      "================= DONE QS 25 R ===================\n",
      "(2321, 7680)\n",
      "QS 26 R => Duration: 69630.0 (sec) OR 19:20:30\n"
     ]
    },
    {
     "name": "stderr",
     "output_type": "stream",
     "text": [
      "/var/folders/c4/x03my2dj70s46m109bn58l2m0000gn/T/ipykernel_81759/1497492364.py:40: FutureWarning: Passing a negative integer is deprecated in version 1.0 and will not be supported in future version. Instead, use None to not limit the column width.\n",
      "  pd.set_option(\"max_colwidth\", -1)\n"
     ]
    },
    {
     "name": "stdout",
     "output_type": "stream",
     "text": [
      "Outliers are detected in 17 points.\n",
      "Outliers are detected in 26 points.\n",
      "Outliers are detected in 14 points.\n",
      "Outliers are detected in 198 points.\n"
     ]
    },
    {
     "name": "stderr",
     "output_type": "stream",
     "text": [
      "/Users/amirhosseindaraie/miniconda3/envs/mne/lib/python3.9/site-packages/scipy/stats/_entropy.py:293: RuntimeWarning: divide by zero encountered in log\n",
      "  logs = np.log(n/(2*m) * differences)\n"
     ]
    },
    {
     "name": "stdout",
     "output_type": "stream",
     "text": [
      "================= DONE QS 26 R ===================\n",
      "(1991, 7680)\n",
      "QS 28 R => Duration: 59730.0 (sec) OR 16:35:30\n"
     ]
    },
    {
     "name": "stderr",
     "output_type": "stream",
     "text": [
      "/var/folders/c4/x03my2dj70s46m109bn58l2m0000gn/T/ipykernel_81759/1497492364.py:40: FutureWarning: Passing a negative integer is deprecated in version 1.0 and will not be supported in future version. Instead, use None to not limit the column width.\n",
      "  pd.set_option(\"max_colwidth\", -1)\n"
     ]
    },
    {
     "name": "stdout",
     "output_type": "stream",
     "text": [
      "Outliers are detected in 26 points.\n",
      "Outliers are detected in 0 points.\n",
      "Outliers are detected in 16 points.\n",
      "Outliers are detected in 56 points.\n"
     ]
    },
    {
     "name": "stderr",
     "output_type": "stream",
     "text": [
      "/Users/amirhosseindaraie/miniconda3/envs/mne/lib/python3.9/site-packages/scipy/stats/_entropy.py:293: RuntimeWarning: divide by zero encountered in log\n",
      "  logs = np.log(n/(2*m) * differences)\n"
     ]
    },
    {
     "name": "stdout",
     "output_type": "stream",
     "text": [
      "================= DONE QS 28 R ===================\n",
      "(2529, 7680)\n",
      "QS 32 R => Duration: 75870.0 (sec) OR 21:04:30\n"
     ]
    },
    {
     "name": "stderr",
     "output_type": "stream",
     "text": [
      "/var/folders/c4/x03my2dj70s46m109bn58l2m0000gn/T/ipykernel_81759/1497492364.py:40: FutureWarning: Passing a negative integer is deprecated in version 1.0 and will not be supported in future version. Instead, use None to not limit the column width.\n",
      "  pd.set_option(\"max_colwidth\", -1)\n"
     ]
    },
    {
     "name": "stdout",
     "output_type": "stream",
     "text": [
      "Outliers are detected in 94 points.\n",
      "Outliers are detected in 0 points.\n",
      "Outliers are detected in 42 points.\n",
      "Outliers are detected in 86 points.\n"
     ]
    },
    {
     "name": "stderr",
     "output_type": "stream",
     "text": [
      "/Users/amirhosseindaraie/miniconda3/envs/mne/lib/python3.9/site-packages/scipy/stats/_entropy.py:293: RuntimeWarning: divide by zero encountered in log\n",
      "  logs = np.log(n/(2*m) * differences)\n"
     ]
    },
    {
     "name": "stdout",
     "output_type": "stream",
     "text": [
      "================= DONE QS 32 R ===================\n",
      "(1771, 7680)\n",
      "QS 34 L => Duration: 53130.0 (sec) OR 14:45:30\n"
     ]
    },
    {
     "name": "stderr",
     "output_type": "stream",
     "text": [
      "/var/folders/c4/x03my2dj70s46m109bn58l2m0000gn/T/ipykernel_81759/1497492364.py:40: FutureWarning: Passing a negative integer is deprecated in version 1.0 and will not be supported in future version. Instead, use None to not limit the column width.\n",
      "  pd.set_option(\"max_colwidth\", -1)\n"
     ]
    },
    {
     "name": "stdout",
     "output_type": "stream",
     "text": [
      "Outliers are detected in 9 points.\n",
      "Outliers are detected in 2 points.\n",
      "Outliers are detected in 28 points.\n",
      "Outliers are detected in 142 points.\n"
     ]
    },
    {
     "name": "stderr",
     "output_type": "stream",
     "text": [
      "/Users/amirhosseindaraie/miniconda3/envs/mne/lib/python3.9/site-packages/scipy/stats/_entropy.py:293: RuntimeWarning: divide by zero encountered in log\n",
      "  logs = np.log(n/(2*m) * differences)\n"
     ]
    },
    {
     "name": "stdout",
     "output_type": "stream",
     "text": [
      "================= DONE QS 34 L ===================\n",
      "(1994, 7680)\n",
      "QS 35 R => Duration: 59820.0 (sec) OR 16:37:00\n"
     ]
    },
    {
     "name": "stderr",
     "output_type": "stream",
     "text": [
      "/var/folders/c4/x03my2dj70s46m109bn58l2m0000gn/T/ipykernel_81759/1497492364.py:40: FutureWarning: Passing a negative integer is deprecated in version 1.0 and will not be supported in future version. Instead, use None to not limit the column width.\n",
      "  pd.set_option(\"max_colwidth\", -1)\n"
     ]
    },
    {
     "name": "stdout",
     "output_type": "stream",
     "text": [
      "Outliers are detected in 144 points.\n",
      "Outliers are detected in 6 points.\n",
      "Outliers are detected in 16 points.\n",
      "Outliers are detected in 160 points.\n"
     ]
    },
    {
     "name": "stderr",
     "output_type": "stream",
     "text": [
      "/Users/amirhosseindaraie/miniconda3/envs/mne/lib/python3.9/site-packages/scipy/stats/_entropy.py:293: RuntimeWarning: divide by zero encountered in log\n",
      "  logs = np.log(n/(2*m) * differences)\n"
     ]
    },
    {
     "name": "stdout",
     "output_type": "stream",
     "text": [
      "================= DONE QS 35 R ===================\n",
      "(2014, 7680)\n",
      "QS 36 R => Duration: 60420.0 (sec) OR 16:47:00\n"
     ]
    },
    {
     "name": "stderr",
     "output_type": "stream",
     "text": [
      "/var/folders/c4/x03my2dj70s46m109bn58l2m0000gn/T/ipykernel_81759/1497492364.py:40: FutureWarning: Passing a negative integer is deprecated in version 1.0 and will not be supported in future version. Instead, use None to not limit the column width.\n",
      "  pd.set_option(\"max_colwidth\", -1)\n"
     ]
    },
    {
     "name": "stdout",
     "output_type": "stream",
     "text": [
      "Outliers are detected in 38 points.\n",
      "Outliers are detected in 54 points.\n",
      "Outliers are detected in 82 points.\n",
      "Outliers are detected in 167 points.\n"
     ]
    },
    {
     "name": "stderr",
     "output_type": "stream",
     "text": [
      "/Users/amirhosseindaraie/miniconda3/envs/mne/lib/python3.9/site-packages/scipy/stats/_entropy.py:293: RuntimeWarning: divide by zero encountered in log\n",
      "  logs = np.log(n/(2*m) * differences)\n"
     ]
    },
    {
     "name": "stdout",
     "output_type": "stream",
     "text": [
      "================= DONE QS 36 R ===================\n",
      "(1372, 7680)\n",
      "QS 37 R => Duration: 41160.0 (sec) OR 11:26:00\n"
     ]
    },
    {
     "name": "stderr",
     "output_type": "stream",
     "text": [
      "/var/folders/c4/x03my2dj70s46m109bn58l2m0000gn/T/ipykernel_81759/1497492364.py:40: FutureWarning: Passing a negative integer is deprecated in version 1.0 and will not be supported in future version. Instead, use None to not limit the column width.\n",
      "  pd.set_option(\"max_colwidth\", -1)\n",
      "/var/folders/c4/x03my2dj70s46m109bn58l2m0000gn/T/ipykernel_81759/1497492364.py:256: RuntimeWarning: divide by zero encountered in log2\n",
      "  wavelet_energy = np.nansum(np.log2(np.square(data_set)))\n"
     ]
    },
    {
     "name": "stdout",
     "output_type": "stream",
     "text": [
      "Outliers are detected in 55 points.\n",
      "Outliers are detected in 0 points.\n",
      "Outliers are detected in 24 points.\n",
      "Outliers are detected in 41 points.\n"
     ]
    },
    {
     "name": "stderr",
     "output_type": "stream",
     "text": [
      "/Users/amirhosseindaraie/miniconda3/envs/mne/lib/python3.9/site-packages/scipy/stats/_entropy.py:293: RuntimeWarning: divide by zero encountered in log\n",
      "  logs = np.log(n/(2*m) * differences)\n"
     ]
    },
    {
     "name": "stdout",
     "output_type": "stream",
     "text": [
      "================= DONE QS 37 R ===================\n",
      "(2240, 7680)\n",
      "QS 38 R => Duration: 67200.0 (sec) OR 18:40:00\n"
     ]
    },
    {
     "name": "stderr",
     "output_type": "stream",
     "text": [
      "/var/folders/c4/x03my2dj70s46m109bn58l2m0000gn/T/ipykernel_81759/1497492364.py:40: FutureWarning: Passing a negative integer is deprecated in version 1.0 and will not be supported in future version. Instead, use None to not limit the column width.\n",
      "  pd.set_option(\"max_colwidth\", -1)\n"
     ]
    },
    {
     "name": "stdout",
     "output_type": "stream",
     "text": [
      "Outliers are detected in 93 points.\n",
      "Outliers are detected in 0 points.\n",
      "Outliers are detected in 54 points.\n",
      "Outliers are detected in 147 points.\n"
     ]
    },
    {
     "name": "stderr",
     "output_type": "stream",
     "text": [
      "/Users/amirhosseindaraie/miniconda3/envs/mne/lib/python3.9/site-packages/scipy/stats/_entropy.py:293: RuntimeWarning: divide by zero encountered in log\n",
      "  logs = np.log(n/(2*m) * differences)\n"
     ]
    },
    {
     "name": "stdout",
     "output_type": "stream",
     "text": [
      "================= DONE QS 38 R ===================\n",
      "(1811, 7680)\n",
      "QS 39 R => Duration: 54330.0 (sec) OR 15:05:30\n"
     ]
    },
    {
     "name": "stderr",
     "output_type": "stream",
     "text": [
      "/var/folders/c4/x03my2dj70s46m109bn58l2m0000gn/T/ipykernel_81759/1497492364.py:40: FutureWarning: Passing a negative integer is deprecated in version 1.0 and will not be supported in future version. Instead, use None to not limit the column width.\n",
      "  pd.set_option(\"max_colwidth\", -1)\n",
      "/var/folders/c4/x03my2dj70s46m109bn58l2m0000gn/T/ipykernel_81759/1497492364.py:256: RuntimeWarning: divide by zero encountered in log2\n",
      "  wavelet_energy = np.nansum(np.log2(np.square(data_set)))\n"
     ]
    },
    {
     "name": "stdout",
     "output_type": "stream",
     "text": [
      "Outliers are detected in 46 points.\n",
      "Outliers are detected in 0 points.\n",
      "Outliers are detected in 32 points.\n",
      "Outliers are detected in 143 points.\n"
     ]
    },
    {
     "name": "stderr",
     "output_type": "stream",
     "text": [
      "/Users/amirhosseindaraie/miniconda3/envs/mne/lib/python3.9/site-packages/scipy/stats/_entropy.py:293: RuntimeWarning: divide by zero encountered in log\n",
      "  logs = np.log(n/(2*m) * differences)\n"
     ]
    },
    {
     "name": "stdout",
     "output_type": "stream",
     "text": [
      "================= DONE QS 39 R ===================\n",
      "(1651, 7680)\n",
      "QS 40 R => Duration: 49530.0 (sec) OR 13:45:30\n"
     ]
    },
    {
     "name": "stderr",
     "output_type": "stream",
     "text": [
      "/var/folders/c4/x03my2dj70s46m109bn58l2m0000gn/T/ipykernel_81759/1497492364.py:40: FutureWarning: Passing a negative integer is deprecated in version 1.0 and will not be supported in future version. Instead, use None to not limit the column width.\n",
      "  pd.set_option(\"max_colwidth\", -1)\n"
     ]
    },
    {
     "name": "stdout",
     "output_type": "stream",
     "text": [
      "Outliers are detected in 18 points.\n",
      "Outliers are detected in 6 points.\n",
      "Outliers are detected in 0 points.\n",
      "Outliers are detected in 80 points.\n"
     ]
    },
    {
     "name": "stderr",
     "output_type": "stream",
     "text": [
      "/Users/amirhosseindaraie/miniconda3/envs/mne/lib/python3.9/site-packages/scipy/stats/_entropy.py:293: RuntimeWarning: divide by zero encountered in log\n",
      "  logs = np.log(n/(2*m) * differences)\n"
     ]
    },
    {
     "name": "stdout",
     "output_type": "stream",
     "text": [
      "================= DONE QS 40 R ===================\n",
      "(1554, 7680)\n",
      "QS 41 L => Duration: 46620.0 (sec) OR 12:57:00\n"
     ]
    },
    {
     "name": "stderr",
     "output_type": "stream",
     "text": [
      "/var/folders/c4/x03my2dj70s46m109bn58l2m0000gn/T/ipykernel_81759/1497492364.py:40: FutureWarning: Passing a negative integer is deprecated in version 1.0 and will not be supported in future version. Instead, use None to not limit the column width.\n",
      "  pd.set_option(\"max_colwidth\", -1)\n"
     ]
    },
    {
     "name": "stdout",
     "output_type": "stream",
     "text": [
      "Outliers are detected in 31 points.\n",
      "Outliers are detected in 65 points.\n",
      "Outliers are detected in 32 points.\n",
      "Outliers are detected in 156 points.\n"
     ]
    },
    {
     "name": "stderr",
     "output_type": "stream",
     "text": [
      "/Users/amirhosseindaraie/miniconda3/envs/mne/lib/python3.9/site-packages/scipy/stats/_entropy.py:293: RuntimeWarning: divide by zero encountered in log\n",
      "  logs = np.log(n/(2*m) * differences)\n"
     ]
    },
    {
     "name": "stdout",
     "output_type": "stream",
     "text": [
      "================= DONE QS 41 L ===================\n",
      "(1677, 7680)\n",
      "QS 42 R => Duration: 50310.0 (sec) OR 13:58:30\n"
     ]
    },
    {
     "name": "stderr",
     "output_type": "stream",
     "text": [
      "/var/folders/c4/x03my2dj70s46m109bn58l2m0000gn/T/ipykernel_81759/1497492364.py:40: FutureWarning: Passing a negative integer is deprecated in version 1.0 and will not be supported in future version. Instead, use None to not limit the column width.\n",
      "  pd.set_option(\"max_colwidth\", -1)\n"
     ]
    },
    {
     "name": "stdout",
     "output_type": "stream",
     "text": [
      "Outliers are detected in 62 points.\n",
      "Outliers are detected in 1 points.\n",
      "Outliers are detected in 22 points.\n",
      "Outliers are detected in 88 points.\n"
     ]
    },
    {
     "name": "stderr",
     "output_type": "stream",
     "text": [
      "/Users/amirhosseindaraie/miniconda3/envs/mne/lib/python3.9/site-packages/scipy/stats/_entropy.py:293: RuntimeWarning: divide by zero encountered in log\n",
      "  logs = np.log(n/(2*m) * differences)\n"
     ]
    },
    {
     "name": "stdout",
     "output_type": "stream",
     "text": [
      "================= DONE QS 42 R ===================\n",
      "(2169, 7680)\n",
      "QS 45 R => Duration: 65070.0 (sec) OR 18:04:30\n"
     ]
    },
    {
     "name": "stderr",
     "output_type": "stream",
     "text": [
      "/var/folders/c4/x03my2dj70s46m109bn58l2m0000gn/T/ipykernel_81759/1497492364.py:40: FutureWarning: Passing a negative integer is deprecated in version 1.0 and will not be supported in future version. Instead, use None to not limit the column width.\n",
      "  pd.set_option(\"max_colwidth\", -1)\n"
     ]
    },
    {
     "name": "stdout",
     "output_type": "stream",
     "text": [
      "Outliers are detected in 114 points.\n",
      "Outliers are detected in 4 points.\n",
      "Outliers are detected in 180 points.\n",
      "Outliers are detected in 99 points.\n"
     ]
    },
    {
     "name": "stderr",
     "output_type": "stream",
     "text": [
      "/Users/amirhosseindaraie/miniconda3/envs/mne/lib/python3.9/site-packages/scipy/stats/_entropy.py:293: RuntimeWarning: divide by zero encountered in log\n",
      "  logs = np.log(n/(2*m) * differences)\n"
     ]
    },
    {
     "name": "stdout",
     "output_type": "stream",
     "text": [
      "================= DONE QS 45 R ===================\n",
      "(1529, 7680)\n",
      "QS 46 R => Duration: 45870.0 (sec) OR 12:44:30\n"
     ]
    },
    {
     "name": "stderr",
     "output_type": "stream",
     "text": [
      "/var/folders/c4/x03my2dj70s46m109bn58l2m0000gn/T/ipykernel_81759/1497492364.py:40: FutureWarning: Passing a negative integer is deprecated in version 1.0 and will not be supported in future version. Instead, use None to not limit the column width.\n",
      "  pd.set_option(\"max_colwidth\", -1)\n"
     ]
    },
    {
     "name": "stdout",
     "output_type": "stream",
     "text": [
      "Outliers are detected in 82 points.\n",
      "Outliers are detected in 0 points.\n",
      "Outliers are detected in 86 points.\n",
      "Outliers are detected in 97 points.\n"
     ]
    },
    {
     "name": "stderr",
     "output_type": "stream",
     "text": [
      "/Users/amirhosseindaraie/miniconda3/envs/mne/lib/python3.9/site-packages/scipy/stats/_entropy.py:293: RuntimeWarning: divide by zero encountered in log\n",
      "  logs = np.log(n/(2*m) * differences)\n"
     ]
    },
    {
     "name": "stdout",
     "output_type": "stream",
     "text": [
      "================= DONE QS 46 R ===================\n",
      "(1491, 7680)\n",
      "QS 47 R => Duration: 44730.0 (sec) OR 12:25:30\n"
     ]
    },
    {
     "name": "stderr",
     "output_type": "stream",
     "text": [
      "/var/folders/c4/x03my2dj70s46m109bn58l2m0000gn/T/ipykernel_81759/1497492364.py:40: FutureWarning: Passing a negative integer is deprecated in version 1.0 and will not be supported in future version. Instead, use None to not limit the column width.\n",
      "  pd.set_option(\"max_colwidth\", -1)\n"
     ]
    },
    {
     "name": "stdout",
     "output_type": "stream",
     "text": [
      "Outliers are detected in 19 points.\n",
      "Outliers are detected in 152 points.\n",
      "Outliers are detected in 20 points.\n",
      "Outliers are detected in 196 points.\n"
     ]
    },
    {
     "name": "stderr",
     "output_type": "stream",
     "text": [
      "/Users/amirhosseindaraie/miniconda3/envs/mne/lib/python3.9/site-packages/scipy/stats/_entropy.py:293: RuntimeWarning: divide by zero encountered in log\n",
      "  logs = np.log(n/(2*m) * differences)\n"
     ]
    },
    {
     "name": "stdout",
     "output_type": "stream",
     "text": [
      "================= DONE QS 47 R ===================\n",
      "(1043, 7680)\n",
      "QS 48 R => Duration: 31290.0 (sec) OR 08:41:30\n"
     ]
    },
    {
     "name": "stderr",
     "output_type": "stream",
     "text": [
      "/var/folders/c4/x03my2dj70s46m109bn58l2m0000gn/T/ipykernel_81759/1497492364.py:40: FutureWarning: Passing a negative integer is deprecated in version 1.0 and will not be supported in future version. Instead, use None to not limit the column width.\n",
      "  pd.set_option(\"max_colwidth\", -1)\n"
     ]
    },
    {
     "name": "stdout",
     "output_type": "stream",
     "text": [
      "Outliers are detected in 40 points.\n",
      "Outliers are detected in 0 points.\n",
      "Outliers are detected in 63 points.\n",
      "Outliers are detected in 38 points.\n"
     ]
    },
    {
     "name": "stderr",
     "output_type": "stream",
     "text": [
      "/Users/amirhosseindaraie/miniconda3/envs/mne/lib/python3.9/site-packages/scipy/stats/_entropy.py:293: RuntimeWarning: divide by zero encountered in log\n",
      "  logs = np.log(n/(2*m) * differences)\n"
     ]
    },
    {
     "name": "stdout",
     "output_type": "stream",
     "text": [
      "================= DONE QS 48 R ===================\n",
      "(1700, 7680)\n",
      "QS 49 R => Duration: 51000.0 (sec) OR 14:10:00\n"
     ]
    },
    {
     "name": "stderr",
     "output_type": "stream",
     "text": [
      "/var/folders/c4/x03my2dj70s46m109bn58l2m0000gn/T/ipykernel_81759/1497492364.py:40: FutureWarning: Passing a negative integer is deprecated in version 1.0 and will not be supported in future version. Instead, use None to not limit the column width.\n",
      "  pd.set_option(\"max_colwidth\", -1)\n"
     ]
    },
    {
     "name": "stdout",
     "output_type": "stream",
     "text": [
      "Outliers are detected in 65 points.\n",
      "Outliers are detected in 14 points.\n",
      "Outliers are detected in 37 points.\n",
      "Outliers are detected in 129 points.\n"
     ]
    },
    {
     "name": "stderr",
     "output_type": "stream",
     "text": [
      "/Users/amirhosseindaraie/miniconda3/envs/mne/lib/python3.9/site-packages/scipy/stats/_entropy.py:293: RuntimeWarning: divide by zero encountered in log\n",
      "  logs = np.log(n/(2*m) * differences)\n"
     ]
    },
    {
     "name": "stdout",
     "output_type": "stream",
     "text": [
      "================= DONE QS 49 R ===================\n",
      "(1661, 7680)\n",
      "QS 50 R => Duration: 49830.0 (sec) OR 13:50:30\n"
     ]
    },
    {
     "name": "stderr",
     "output_type": "stream",
     "text": [
      "/var/folders/c4/x03my2dj70s46m109bn58l2m0000gn/T/ipykernel_81759/1497492364.py:40: FutureWarning: Passing a negative integer is deprecated in version 1.0 and will not be supported in future version. Instead, use None to not limit the column width.\n",
      "  pd.set_option(\"max_colwidth\", -1)\n"
     ]
    },
    {
     "name": "stdout",
     "output_type": "stream",
     "text": [
      "Outliers are detected in 60 points.\n",
      "Outliers are detected in 4 points.\n",
      "Outliers are detected in 25 points.\n",
      "Outliers are detected in 56 points.\n"
     ]
    },
    {
     "name": "stderr",
     "output_type": "stream",
     "text": [
      "/Users/amirhosseindaraie/miniconda3/envs/mne/lib/python3.9/site-packages/scipy/stats/_entropy.py:293: RuntimeWarning: divide by zero encountered in log\n",
      "  logs = np.log(n/(2*m) * differences)\n"
     ]
    },
    {
     "name": "stdout",
     "output_type": "stream",
     "text": [
      "================= DONE QS 50 R ===================\n",
      "(2091, 7680)\n",
      "QS 51 R => Duration: 62730.0 (sec) OR 17:25:30\n"
     ]
    },
    {
     "name": "stderr",
     "output_type": "stream",
     "text": [
      "/var/folders/c4/x03my2dj70s46m109bn58l2m0000gn/T/ipykernel_81759/1497492364.py:40: FutureWarning: Passing a negative integer is deprecated in version 1.0 and will not be supported in future version. Instead, use None to not limit the column width.\n",
      "  pd.set_option(\"max_colwidth\", -1)\n"
     ]
    },
    {
     "name": "stdout",
     "output_type": "stream",
     "text": [
      "Outliers are detected in 201 points.\n",
      "Outliers are detected in 0 points.\n",
      "Outliers are detected in 46 points.\n",
      "Outliers are detected in 89 points.\n"
     ]
    },
    {
     "name": "stderr",
     "output_type": "stream",
     "text": [
      "/Users/amirhosseindaraie/miniconda3/envs/mne/lib/python3.9/site-packages/scipy/stats/_entropy.py:293: RuntimeWarning: divide by zero encountered in log\n",
      "  logs = np.log(n/(2*m) * differences)\n"
     ]
    },
    {
     "name": "stdout",
     "output_type": "stream",
     "text": [
      "================= DONE QS 51 R ===================\n",
      "(1937, 7680)\n",
      "QS 52 R => Duration: 58110.0 (sec) OR 16:08:30\n"
     ]
    },
    {
     "name": "stderr",
     "output_type": "stream",
     "text": [
      "/var/folders/c4/x03my2dj70s46m109bn58l2m0000gn/T/ipykernel_81759/1497492364.py:40: FutureWarning: Passing a negative integer is deprecated in version 1.0 and will not be supported in future version. Instead, use None to not limit the column width.\n",
      "  pd.set_option(\"max_colwidth\", -1)\n"
     ]
    },
    {
     "name": "stdout",
     "output_type": "stream",
     "text": [
      "Outliers are detected in 95 points.\n",
      "Outliers are detected in 12 points.\n",
      "Outliers are detected in 4 points.\n",
      "Outliers are detected in 116 points.\n"
     ]
    },
    {
     "name": "stderr",
     "output_type": "stream",
     "text": [
      "/Users/amirhosseindaraie/miniconda3/envs/mne/lib/python3.9/site-packages/scipy/stats/_entropy.py:293: RuntimeWarning: divide by zero encountered in log\n",
      "  logs = np.log(n/(2*m) * differences)\n"
     ]
    },
    {
     "name": "stdout",
     "output_type": "stream",
     "text": [
      "================= DONE QS 52 R ===================\n",
      "(1615, 7680)\n",
      "QS 53 R => Duration: 48450.0 (sec) OR 13:27:30\n"
     ]
    },
    {
     "name": "stderr",
     "output_type": "stream",
     "text": [
      "/var/folders/c4/x03my2dj70s46m109bn58l2m0000gn/T/ipykernel_81759/1497492364.py:40: FutureWarning: Passing a negative integer is deprecated in version 1.0 and will not be supported in future version. Instead, use None to not limit the column width.\n",
      "  pd.set_option(\"max_colwidth\", -1)\n"
     ]
    },
    {
     "name": "stdout",
     "output_type": "stream",
     "text": [
      "Outliers are detected in 102 points.\n",
      "Outliers are detected in 0 points.\n",
      "Outliers are detected in 56 points.\n",
      "Outliers are detected in 36 points.\n"
     ]
    },
    {
     "name": "stderr",
     "output_type": "stream",
     "text": [
      "/Users/amirhosseindaraie/miniconda3/envs/mne/lib/python3.9/site-packages/scipy/stats/_entropy.py:293: RuntimeWarning: divide by zero encountered in log\n",
      "  logs = np.log(n/(2*m) * differences)\n"
     ]
    },
    {
     "name": "stdout",
     "output_type": "stream",
     "text": [
      "================= DONE QS 53 R ===================\n",
      "(2275, 7680)\n",
      "QS 54 L => Duration: 68250.0 (sec) OR 18:57:30\n"
     ]
    },
    {
     "name": "stderr",
     "output_type": "stream",
     "text": [
      "/var/folders/c4/x03my2dj70s46m109bn58l2m0000gn/T/ipykernel_81759/1497492364.py:40: FutureWarning: Passing a negative integer is deprecated in version 1.0 and will not be supported in future version. Instead, use None to not limit the column width.\n",
      "  pd.set_option(\"max_colwidth\", -1)\n"
     ]
    },
    {
     "name": "stdout",
     "output_type": "stream",
     "text": [
      "Outliers are detected in 81 points.\n",
      "Outliers are detected in 35 points.\n",
      "Outliers are detected in 34 points.\n",
      "Outliers are detected in 212 points.\n"
     ]
    },
    {
     "name": "stderr",
     "output_type": "stream",
     "text": [
      "/Users/amirhosseindaraie/miniconda3/envs/mne/lib/python3.9/site-packages/scipy/stats/_entropy.py:293: RuntimeWarning: divide by zero encountered in log\n",
      "  logs = np.log(n/(2*m) * differences)\n"
     ]
    },
    {
     "name": "stdout",
     "output_type": "stream",
     "text": [
      "================= DONE QS 54 L ===================\n",
      "(1910, 7680)\n",
      "QS 55 R => Duration: 57300.0 (sec) OR 15:55:00\n"
     ]
    },
    {
     "name": "stderr",
     "output_type": "stream",
     "text": [
      "/var/folders/c4/x03my2dj70s46m109bn58l2m0000gn/T/ipykernel_81759/1497492364.py:40: FutureWarning: Passing a negative integer is deprecated in version 1.0 and will not be supported in future version. Instead, use None to not limit the column width.\n",
      "  pd.set_option(\"max_colwidth\", -1)\n"
     ]
    },
    {
     "name": "stdout",
     "output_type": "stream",
     "text": [
      "Outliers are detected in 42 points.\n",
      "Outliers are detected in 2 points.\n",
      "Outliers are detected in 29 points.\n",
      "Outliers are detected in 103 points.\n"
     ]
    },
    {
     "name": "stderr",
     "output_type": "stream",
     "text": [
      "/Users/amirhosseindaraie/miniconda3/envs/mne/lib/python3.9/site-packages/scipy/stats/_entropy.py:293: RuntimeWarning: divide by zero encountered in log\n",
      "  logs = np.log(n/(2*m) * differences)\n"
     ]
    },
    {
     "name": "stdout",
     "output_type": "stream",
     "text": [
      "================= DONE QS 55 R ===================\n",
      "(1905, 7680)\n",
      "QS 56 L => Duration: 57150.0 (sec) OR 15:52:30\n"
     ]
    },
    {
     "name": "stderr",
     "output_type": "stream",
     "text": [
      "/var/folders/c4/x03my2dj70s46m109bn58l2m0000gn/T/ipykernel_81759/1497492364.py:40: FutureWarning: Passing a negative integer is deprecated in version 1.0 and will not be supported in future version. Instead, use None to not limit the column width.\n",
      "  pd.set_option(\"max_colwidth\", -1)\n"
     ]
    },
    {
     "name": "stdout",
     "output_type": "stream",
     "text": [
      "Outliers are detected in 27 points.\n",
      "Outliers are detected in 30 points.\n",
      "Outliers are detected in 27 points.\n",
      "Outliers are detected in 157 points.\n"
     ]
    },
    {
     "name": "stderr",
     "output_type": "stream",
     "text": [
      "/Users/amirhosseindaraie/miniconda3/envs/mne/lib/python3.9/site-packages/scipy/stats/_entropy.py:293: RuntimeWarning: divide by zero encountered in log\n",
      "  logs = np.log(n/(2*m) * differences)\n"
     ]
    },
    {
     "name": "stdout",
     "output_type": "stream",
     "text": [
      "================= DONE QS 56 L ===================\n",
      "(1824, 7680)\n",
      "QS 57 L => Duration: 54720.0 (sec) OR 15:12:00\n"
     ]
    },
    {
     "name": "stderr",
     "output_type": "stream",
     "text": [
      "/var/folders/c4/x03my2dj70s46m109bn58l2m0000gn/T/ipykernel_81759/1497492364.py:40: FutureWarning: Passing a negative integer is deprecated in version 1.0 and will not be supported in future version. Instead, use None to not limit the column width.\n",
      "  pd.set_option(\"max_colwidth\", -1)\n"
     ]
    },
    {
     "name": "stdout",
     "output_type": "stream",
     "text": [
      "Outliers are detected in 46 points.\n",
      "Outliers are detected in 26 points.\n",
      "Outliers are detected in 19 points.\n",
      "Outliers are detected in 122 points.\n"
     ]
    },
    {
     "name": "stderr",
     "output_type": "stream",
     "text": [
      "/Users/amirhosseindaraie/miniconda3/envs/mne/lib/python3.9/site-packages/scipy/stats/_entropy.py:293: RuntimeWarning: divide by zero encountered in log\n",
      "  logs = np.log(n/(2*m) * differences)\n"
     ]
    },
    {
     "name": "stdout",
     "output_type": "stream",
     "text": [
      "================= DONE QS 57 L ===================\n",
      "(1889, 7680)\n",
      "QS 58 L => Duration: 56670.0 (sec) OR 15:44:30\n"
     ]
    },
    {
     "name": "stderr",
     "output_type": "stream",
     "text": [
      "/var/folders/c4/x03my2dj70s46m109bn58l2m0000gn/T/ipykernel_81759/1497492364.py:40: FutureWarning: Passing a negative integer is deprecated in version 1.0 and will not be supported in future version. Instead, use None to not limit the column width.\n",
      "  pd.set_option(\"max_colwidth\", -1)\n"
     ]
    },
    {
     "name": "stdout",
     "output_type": "stream",
     "text": [
      "Outliers are detected in 72 points.\n",
      "Outliers are detected in 15 points.\n",
      "Outliers are detected in 58 points.\n",
      "Outliers are detected in 143 points.\n"
     ]
    },
    {
     "name": "stderr",
     "output_type": "stream",
     "text": [
      "/Users/amirhosseindaraie/miniconda3/envs/mne/lib/python3.9/site-packages/scipy/stats/_entropy.py:293: RuntimeWarning: divide by zero encountered in log\n",
      "  logs = np.log(n/(2*m) * differences)\n"
     ]
    },
    {
     "name": "stdout",
     "output_type": "stream",
     "text": [
      "================= DONE QS 58 L ===================\n",
      "(1977, 7680)\n",
      "QS 60 L => Duration: 59310.0 (sec) OR 16:28:30\n"
     ]
    },
    {
     "name": "stderr",
     "output_type": "stream",
     "text": [
      "/var/folders/c4/x03my2dj70s46m109bn58l2m0000gn/T/ipykernel_81759/1497492364.py:40: FutureWarning: Passing a negative integer is deprecated in version 1.0 and will not be supported in future version. Instead, use None to not limit the column width.\n",
      "  pd.set_option(\"max_colwidth\", -1)\n"
     ]
    },
    {
     "name": "stdout",
     "output_type": "stream",
     "text": [
      "Outliers are detected in 75 points.\n",
      "Outliers are detected in 29 points.\n",
      "Outliers are detected in 48 points.\n",
      "Outliers are detected in 168 points.\n"
     ]
    },
    {
     "name": "stderr",
     "output_type": "stream",
     "text": [
      "/Users/amirhosseindaraie/miniconda3/envs/mne/lib/python3.9/site-packages/scipy/stats/_entropy.py:293: RuntimeWarning: divide by zero encountered in log\n",
      "  logs = np.log(n/(2*m) * differences)\n"
     ]
    },
    {
     "name": "stdout",
     "output_type": "stream",
     "text": [
      "================= DONE QS 60 L ===================\n",
      "(1975, 7680)\n",
      "QS 61 L => Duration: 59250.0 (sec) OR 16:27:30\n"
     ]
    },
    {
     "name": "stderr",
     "output_type": "stream",
     "text": [
      "/var/folders/c4/x03my2dj70s46m109bn58l2m0000gn/T/ipykernel_81759/1497492364.py:40: FutureWarning: Passing a negative integer is deprecated in version 1.0 and will not be supported in future version. Instead, use None to not limit the column width.\n",
      "  pd.set_option(\"max_colwidth\", -1)\n"
     ]
    },
    {
     "name": "stdout",
     "output_type": "stream",
     "text": [
      "Outliers are detected in 10 points.\n",
      "Outliers are detected in 0 points.\n",
      "Outliers are detected in 7 points.\n",
      "Outliers are detected in 19 points.\n"
     ]
    },
    {
     "name": "stderr",
     "output_type": "stream",
     "text": [
      "/Users/amirhosseindaraie/miniconda3/envs/mne/lib/python3.9/site-packages/scipy/stats/_entropy.py:293: RuntimeWarning: divide by zero encountered in log\n",
      "  logs = np.log(n/(2*m) * differences)\n"
     ]
    },
    {
     "name": "stdout",
     "output_type": "stream",
     "text": [
      "================= DONE QS 61 L ===================\n",
      "(1767, 7680)\n",
      "QS 63 L => Duration: 53010.0 (sec) OR 14:43:30\n"
     ]
    },
    {
     "name": "stderr",
     "output_type": "stream",
     "text": [
      "/var/folders/c4/x03my2dj70s46m109bn58l2m0000gn/T/ipykernel_81759/1497492364.py:40: FutureWarning: Passing a negative integer is deprecated in version 1.0 and will not be supported in future version. Instead, use None to not limit the column width.\n",
      "  pd.set_option(\"max_colwidth\", -1)\n"
     ]
    },
    {
     "name": "stdout",
     "output_type": "stream",
     "text": [
      "Outliers are detected in 68 points.\n",
      "Outliers are detected in 30 points.\n",
      "Outliers are detected in 37 points.\n",
      "Outliers are detected in 92 points.\n"
     ]
    },
    {
     "name": "stderr",
     "output_type": "stream",
     "text": [
      "/Users/amirhosseindaraie/miniconda3/envs/mne/lib/python3.9/site-packages/scipy/stats/_entropy.py:293: RuntimeWarning: divide by zero encountered in log\n",
      "  logs = np.log(n/(2*m) * differences)\n"
     ]
    },
    {
     "name": "stdout",
     "output_type": "stream",
     "text": [
      "================= DONE QS 63 L ===================\n",
      "(2212, 7680)\n",
      "QS 64 L => Duration: 66360.0 (sec) OR 18:26:00\n"
     ]
    },
    {
     "name": "stderr",
     "output_type": "stream",
     "text": [
      "/var/folders/c4/x03my2dj70s46m109bn58l2m0000gn/T/ipykernel_81759/1497492364.py:40: FutureWarning: Passing a negative integer is deprecated in version 1.0 and will not be supported in future version. Instead, use None to not limit the column width.\n",
      "  pd.set_option(\"max_colwidth\", -1)\n"
     ]
    },
    {
     "name": "stdout",
     "output_type": "stream",
     "text": [
      "Outliers are detected in 66 points.\n",
      "Outliers are detected in 16 points.\n",
      "Outliers are detected in 22 points.\n",
      "Outliers are detected in 87 points.\n"
     ]
    },
    {
     "name": "stderr",
     "output_type": "stream",
     "text": [
      "/Users/amirhosseindaraie/miniconda3/envs/mne/lib/python3.9/site-packages/scipy/stats/_entropy.py:293: RuntimeWarning: divide by zero encountered in log\n",
      "  logs = np.log(n/(2*m) * differences)\n"
     ]
    },
    {
     "name": "stdout",
     "output_type": "stream",
     "text": [
      "================= DONE QS 64 L ===================\n",
      "(2379, 7680)\n",
      "QS 66 L => Duration: 71370.0 (sec) OR 19:49:30\n"
     ]
    },
    {
     "name": "stderr",
     "output_type": "stream",
     "text": [
      "/var/folders/c4/x03my2dj70s46m109bn58l2m0000gn/T/ipykernel_81759/1497492364.py:40: FutureWarning: Passing a negative integer is deprecated in version 1.0 and will not be supported in future version. Instead, use None to not limit the column width.\n",
      "  pd.set_option(\"max_colwidth\", -1)\n"
     ]
    },
    {
     "name": "stdout",
     "output_type": "stream",
     "text": [
      "Outliers are detected in 45 points.\n",
      "Outliers are detected in 40 points.\n",
      "Outliers are detected in 49 points.\n",
      "Outliers are detected in 181 points.\n"
     ]
    },
    {
     "name": "stderr",
     "output_type": "stream",
     "text": [
      "/Users/amirhosseindaraie/miniconda3/envs/mne/lib/python3.9/site-packages/scipy/stats/_entropy.py:293: RuntimeWarning: divide by zero encountered in log\n",
      "  logs = np.log(n/(2*m) * differences)\n"
     ]
    },
    {
     "name": "stdout",
     "output_type": "stream",
     "text": [
      "================= DONE QS 66 L ===================\n",
      "(2082, 7680)\n",
      "QS 68 L => Duration: 62460.0 (sec) OR 17:21:00\n"
     ]
    },
    {
     "name": "stderr",
     "output_type": "stream",
     "text": [
      "/var/folders/c4/x03my2dj70s46m109bn58l2m0000gn/T/ipykernel_81759/1497492364.py:40: FutureWarning: Passing a negative integer is deprecated in version 1.0 and will not be supported in future version. Instead, use None to not limit the column width.\n",
      "  pd.set_option(\"max_colwidth\", -1)\n"
     ]
    },
    {
     "name": "stdout",
     "output_type": "stream",
     "text": [
      "Outliers are detected in 91 points.\n",
      "Outliers are detected in 49 points.\n",
      "Outliers are detected in 88 points.\n",
      "Outliers are detected in 249 points.\n"
     ]
    },
    {
     "name": "stderr",
     "output_type": "stream",
     "text": [
      "/Users/amirhosseindaraie/miniconda3/envs/mne/lib/python3.9/site-packages/scipy/stats/_entropy.py:293: RuntimeWarning: divide by zero encountered in log\n",
      "  logs = np.log(n/(2*m) * differences)\n"
     ]
    },
    {
     "name": "stdout",
     "output_type": "stream",
     "text": [
      "================= DONE QS 68 L ===================\n",
      "(2295, 7680)\n",
      "QS 70 L => Duration: 68850.0 (sec) OR 19:07:30\n"
     ]
    },
    {
     "name": "stderr",
     "output_type": "stream",
     "text": [
      "/var/folders/c4/x03my2dj70s46m109bn58l2m0000gn/T/ipykernel_81759/1497492364.py:40: FutureWarning: Passing a negative integer is deprecated in version 1.0 and will not be supported in future version. Instead, use None to not limit the column width.\n",
      "  pd.set_option(\"max_colwidth\", -1)\n"
     ]
    },
    {
     "name": "stdout",
     "output_type": "stream",
     "text": [
      "Outliers are detected in 106 points.\n",
      "Outliers are detected in 7 points.\n",
      "Outliers are detected in 53 points.\n",
      "Outliers are detected in 146 points.\n"
     ]
    },
    {
     "name": "stderr",
     "output_type": "stream",
     "text": [
      "/Users/amirhosseindaraie/miniconda3/envs/mne/lib/python3.9/site-packages/scipy/stats/_entropy.py:293: RuntimeWarning: divide by zero encountered in log\n",
      "  logs = np.log(n/(2*m) * differences)\n"
     ]
    },
    {
     "name": "stdout",
     "output_type": "stream",
     "text": [
      "================= DONE QS 70 L ===================\n",
      "(1743, 7680)\n",
      "QS 71 L => Duration: 52290.0 (sec) OR 14:31:30\n"
     ]
    },
    {
     "name": "stderr",
     "output_type": "stream",
     "text": [
      "/var/folders/c4/x03my2dj70s46m109bn58l2m0000gn/T/ipykernel_81759/1497492364.py:40: FutureWarning: Passing a negative integer is deprecated in version 1.0 and will not be supported in future version. Instead, use None to not limit the column width.\n",
      "  pd.set_option(\"max_colwidth\", -1)\n"
     ]
    },
    {
     "name": "stdout",
     "output_type": "stream",
     "text": [
      "Outliers are detected in 74 points.\n",
      "Outliers are detected in 25 points.\n",
      "Outliers are detected in 73 points.\n",
      "Outliers are detected in 131 points.\n"
     ]
    },
    {
     "name": "stderr",
     "output_type": "stream",
     "text": [
      "/Users/amirhosseindaraie/miniconda3/envs/mne/lib/python3.9/site-packages/scipy/stats/_entropy.py:293: RuntimeWarning: divide by zero encountered in log\n",
      "  logs = np.log(n/(2*m) * differences)\n"
     ]
    },
    {
     "name": "stdout",
     "output_type": "stream",
     "text": [
      "================= DONE QS 71 L ===================\n",
      "(1976, 7680)\n",
      "QS 72 L => Duration: 59280.0 (sec) OR 16:28:00\n"
     ]
    },
    {
     "name": "stderr",
     "output_type": "stream",
     "text": [
      "/var/folders/c4/x03my2dj70s46m109bn58l2m0000gn/T/ipykernel_81759/1497492364.py:40: FutureWarning: Passing a negative integer is deprecated in version 1.0 and will not be supported in future version. Instead, use None to not limit the column width.\n",
      "  pd.set_option(\"max_colwidth\", -1)\n",
      "/var/folders/c4/x03my2dj70s46m109bn58l2m0000gn/T/ipykernel_81759/1497492364.py:256: RuntimeWarning: divide by zero encountered in log2\n",
      "  wavelet_energy = np.nansum(np.log2(np.square(data_set)))\n"
     ]
    },
    {
     "name": "stdout",
     "output_type": "stream",
     "text": [
      "Outliers are detected in 95 points.\n",
      "Outliers are detected in 58 points.\n",
      "Outliers are detected in 81 points.\n",
      "Outliers are detected in 180 points.\n"
     ]
    },
    {
     "name": "stderr",
     "output_type": "stream",
     "text": [
      "/Users/amirhosseindaraie/miniconda3/envs/mne/lib/python3.9/site-packages/scipy/stats/_entropy.py:293: RuntimeWarning: divide by zero encountered in log\n",
      "  logs = np.log(n/(2*m) * differences)\n"
     ]
    },
    {
     "name": "stdout",
     "output_type": "stream",
     "text": [
      "================= DONE QS 72 L ===================\n",
      "(1758, 7680)\n",
      "QS 73 L => Duration: 52740.0 (sec) OR 14:39:00\n"
     ]
    },
    {
     "name": "stderr",
     "output_type": "stream",
     "text": [
      "/var/folders/c4/x03my2dj70s46m109bn58l2m0000gn/T/ipykernel_81759/1497492364.py:40: FutureWarning: Passing a negative integer is deprecated in version 1.0 and will not be supported in future version. Instead, use None to not limit the column width.\n",
      "  pd.set_option(\"max_colwidth\", -1)\n"
     ]
    },
    {
     "name": "stdout",
     "output_type": "stream",
     "text": [
      "Outliers are detected in 93 points.\n",
      "Outliers are detected in 5 points.\n",
      "Outliers are detected in 30 points.\n",
      "Outliers are detected in 108 points.\n"
     ]
    },
    {
     "name": "stderr",
     "output_type": "stream",
     "text": [
      "/Users/amirhosseindaraie/miniconda3/envs/mne/lib/python3.9/site-packages/scipy/stats/_entropy.py:293: RuntimeWarning: divide by zero encountered in log\n",
      "  logs = np.log(n/(2*m) * differences)\n"
     ]
    },
    {
     "name": "stdout",
     "output_type": "stream",
     "text": [
      "================= DONE QS 73 L ===================\n",
      "(1945, 7680)\n",
      "QS 79 L => Duration: 58350.0 (sec) OR 16:12:30\n"
     ]
    },
    {
     "name": "stderr",
     "output_type": "stream",
     "text": [
      "/var/folders/c4/x03my2dj70s46m109bn58l2m0000gn/T/ipykernel_81759/1497492364.py:40: FutureWarning: Passing a negative integer is deprecated in version 1.0 and will not be supported in future version. Instead, use None to not limit the column width.\n",
      "  pd.set_option(\"max_colwidth\", -1)\n"
     ]
    },
    {
     "name": "stdout",
     "output_type": "stream",
     "text": [
      "Outliers are detected in 43 points.\n",
      "Outliers are detected in 23 points.\n",
      "Outliers are detected in 20 points.\n",
      "Outliers are detected in 113 points.\n"
     ]
    },
    {
     "name": "stderr",
     "output_type": "stream",
     "text": [
      "/Users/amirhosseindaraie/miniconda3/envs/mne/lib/python3.9/site-packages/scipy/stats/_entropy.py:293: RuntimeWarning: divide by zero encountered in log\n",
      "  logs = np.log(n/(2*m) * differences)\n"
     ]
    },
    {
     "name": "stdout",
     "output_type": "stream",
     "text": [
      "================= DONE QS 79 L ===================\n",
      "(2470, 7680)\n",
      "QS 82 L => Duration: 74100.0 (sec) OR 20:35:00\n"
     ]
    },
    {
     "name": "stderr",
     "output_type": "stream",
     "text": [
      "/var/folders/c4/x03my2dj70s46m109bn58l2m0000gn/T/ipykernel_81759/1497492364.py:40: FutureWarning: Passing a negative integer is deprecated in version 1.0 and will not be supported in future version. Instead, use None to not limit the column width.\n",
      "  pd.set_option(\"max_colwidth\", -1)\n"
     ]
    },
    {
     "name": "stdout",
     "output_type": "stream",
     "text": [
      "Outliers are detected in 136 points.\n",
      "Outliers are detected in 40 points.\n",
      "Outliers are detected in 76 points.\n",
      "Outliers are detected in 196 points.\n"
     ]
    },
    {
     "name": "stderr",
     "output_type": "stream",
     "text": [
      "/Users/amirhosseindaraie/miniconda3/envs/mne/lib/python3.9/site-packages/scipy/stats/_entropy.py:293: RuntimeWarning: divide by zero encountered in log\n",
      "  logs = np.log(n/(2*m) * differences)\n"
     ]
    },
    {
     "name": "stdout",
     "output_type": "stream",
     "text": [
      "================= DONE QS 82 L ===================\n",
      "(2114, 7680)\n",
      "QS 96 L => Duration: 63420.0 (sec) OR 17:37:00\n"
     ]
    },
    {
     "name": "stderr",
     "output_type": "stream",
     "text": [
      "/var/folders/c4/x03my2dj70s46m109bn58l2m0000gn/T/ipykernel_81759/1497492364.py:40: FutureWarning: Passing a negative integer is deprecated in version 1.0 and will not be supported in future version. Instead, use None to not limit the column width.\n",
      "  pd.set_option(\"max_colwidth\", -1)\n"
     ]
    },
    {
     "name": "stdout",
     "output_type": "stream",
     "text": [
      "Outliers are detected in 41 points.\n",
      "Outliers are detected in 38 points.\n",
      "Outliers are detected in 42 points.\n",
      "Outliers are detected in 101 points.\n"
     ]
    },
    {
     "name": "stderr",
     "output_type": "stream",
     "text": [
      "/Users/amirhosseindaraie/miniconda3/envs/mne/lib/python3.9/site-packages/scipy/stats/_entropy.py:293: RuntimeWarning: divide by zero encountered in log\n",
      "  logs = np.log(n/(2*m) * differences)\n"
     ]
    },
    {
     "name": "stdout",
     "output_type": "stream",
     "text": [
      "================= DONE QS 96 L ===================\n"
     ]
    }
   ],
   "source": [
    "for i in range(1,len(reference_df)):\n",
    "    # To load information of each night:\n",
    "    name = reference_df.iloc[i].name\n",
    "    hypno_30s_loc = reference_df.iloc[i].hypno\n",
    "    df_feat_loc = reference_df.iloc[i].df_feat\n",
    "    eeg_loc = reference_df.iloc[i].eeg\n",
    "\n",
    "    # Make sure to choose the augmented versions:\n",
    "    hypno_30s_loc = hypno_30s_loc.split(\".\")[0] + \" aug.txt\"\n",
    "    df_feat_loc = df_feat_loc.split(\".\")[0] + \" aug.csv\"\n",
    "    eeg_loc = eeg_loc.split(\".\")[0] + \" aug.txt\"\n",
    "\n",
    "    # Load data of each night\n",
    "    data = np.loadtxt(eeg_loc, delimiter=\",\")  # took ~7 seconds\n",
    "    hypno_30s = np.loadtxt(hypno_30s_loc, delimiter=\"\\n\")\n",
    "\n",
    "    print(data.shape)\n",
    "\n",
    "    sf = 256\n",
    "\n",
    "    def format_seconds_to_hhmmss(seconds):\n",
    "        # Return hhmmss of total seconds parameter\n",
    "        hours = seconds // (60 * 60)\n",
    "        seconds %= 60 * 60\n",
    "        minutes = seconds // 60\n",
    "        seconds %= 60\n",
    "        return \"%02i:%02i:%02i\" % (hours, minutes, seconds)\n",
    "\n",
    "    print(\n",
    "        f\"{name} => Duration: {len(data.flatten())/sf} (sec) OR {format_seconds_to_hhmmss(len(data.flatten())/sf)}\"\n",
    "    )\n",
    "\n",
    "    import antropy as ant\n",
    "    import scipy.signal as sp_sig\n",
    "    import scipy.stats as sp_stats\n",
    "    from numpy import apply_along_axis as apply\n",
    "\n",
    "    pd.set_option(\"display.max_columns\", None)\n",
    "    pd.set_option(\"display.expand_frame_repr\", False)\n",
    "    pd.set_option(\"max_colwidth\", -1)\n",
    "\n",
    "    data_win = data\n",
    "\n",
    "    def lziv(x):\n",
    "        \"\"\"Binarize the EEG signal and calculate the Lempel-Ziv complexity.\"\"\"\n",
    "        return ant.lziv_complexity(x > x.mean(), normalize=True)\n",
    "\n",
    "    # This cell took ~2min for ~8 hours of sleep data\n",
    "\n",
    "    # Calculate standard descriptive statistics\n",
    "    hmob, hcomp = ant.hjorth_params(data_win, axis=1)\n",
    "\n",
    "    # Feature extraction\n",
    "    df_feat = {\n",
    "        # Statistical\n",
    "        \"std\": apply(np.std, arr=data_win, axis=1, ddof=1),\n",
    "        \"mean\": apply(np.mean, arr=data_win, axis=1),\n",
    "        \"median\": apply(np.median, arr=data_win, axis=1),\n",
    "        \"iqr\": apply(sp_stats.iqr, arr=data_win, axis=1, rng=(25, 75)),\n",
    "        \"skew\": apply(sp_stats.skew, arr=data_win, axis=1),\n",
    "        \"kurt\": apply(sp_stats.kurtosis, arr=data_win, axis=1),\n",
    "        \"nzc\": apply(ant.num_zerocross, arr=data_win, axis=1),\n",
    "        \"hmob\": hmob,\n",
    "        \"hcomp\": hcomp,\n",
    "        # Entropy\n",
    "        \"perm_entropy\": apply(ant.perm_entropy, axis=1, arr=data_win, normalize=True),\n",
    "        \"svd_entropy\": apply(ant.svd_entropy, 1, data_win, normalize=True),\n",
    "        \"sample_entropy\": apply(ant.sample_entropy, 1, data_win),\n",
    "        \"app_entropy\": apply(ant.app_entropy, 1, data_win, order=2),\n",
    "        \"spec_entropy\": apply(\n",
    "            ant.spectral_entropy,\n",
    "            1,\n",
    "            data_win,\n",
    "            sf,\n",
    "            normalize=True,\n",
    "            method=\"welch\",\n",
    "            nperseg=50,\n",
    "        ),\n",
    "        \"lziv\": apply(ant.lziv_complexity, 1, data_win),\n",
    "        # Fractal dimension\n",
    "        \"dfa\": apply(ant.detrended_fluctuation, 1, data_win),\n",
    "        \"petrosian\": apply(ant.petrosian_fd, 1, data_win),\n",
    "        \"katz\": apply(ant.katz_fd, 1, data_win),\n",
    "        \"higuchi\": apply(ant.higuchi_fd, 1, data_win),\n",
    "    }\n",
    "\n",
    "    df_feat = pd.DataFrame(df_feat)\n",
    "    df_feat.head()\n",
    "\n",
    "    from scipy.integrate import simps\n",
    "    from scipy.signal import welch\n",
    "\n",
    "    # Estimate power spectral density using Welch's method\n",
    "    freqs, psd = welch(data_win, sf, nperseg=int(4 * sf))\n",
    "\n",
    "    def bandpower_from_psd_ndarray(\n",
    "        psd,\n",
    "        freqs,\n",
    "        bands=[\n",
    "            (0.5, 4, \"Delta\"),\n",
    "            (4, 8, \"Theta\"),\n",
    "            (8, 12, \"Alpha\"),\n",
    "            (12, 16, \"Sigma\"),\n",
    "            (16, 30, \"Beta\"),\n",
    "            (30, 40, \"Gamma\"),\n",
    "        ],\n",
    "        relative=True,\n",
    "    ):\n",
    "        \"\"\"Compute bandpowers in N-dimensional PSD.\n",
    "        This is a np-only implementation of the :py:func:`yasa.bandpower_from_psd` function,\n",
    "        which supports 1-D arrays of shape (n_freqs), or N-dimensional arays (e.g. 2-D (n_chan,\n",
    "        n_freqs) or 3-D (n_chan, n_epochs, n_freqs))\n",
    "        .. versionadded:: 0.2.0\n",
    "        Parameters\n",
    "        ----------\n",
    "        psd : :py:class:`np.ndarray`\n",
    "            Power spectral density of data, in uV^2/Hz. Must be a N-D array of shape (..., n_freqs).\n",
    "            See :py:func:`scipy.signal.welch` for more details.\n",
    "        freqs : :py:class:`np.ndarray`\n",
    "            Array of frequencies. Must be a 1-D array of shape (n_freqs,)\n",
    "        bands : list of tuples\n",
    "            List of frequency bands of interests. Each tuple must contain the lower and upper\n",
    "            frequencies, as well as the band name (e.g. (0.5, 4, 'Delta')).\n",
    "        relative : boolean\n",
    "            If True, bandpower is divided by the total power between the min and\n",
    "            max frequencies defined in ``band`` (default 0.5 to 40 Hz).\n",
    "        Returns\n",
    "        -------\n",
    "        bandpowers : :py:class:`np.ndarray`\n",
    "            Bandpower array of shape *(n_bands, ...)*.\n",
    "        \"\"\"\n",
    "        # Type checks\n",
    "        assert isinstance(bands, list), \"bands must be a list of tuple(s)\"\n",
    "        assert isinstance(relative, bool), \"relative must be a boolean\"\n",
    "\n",
    "        # Safety checks\n",
    "        freqs = np.asarray(freqs)\n",
    "        psd = np.asarray(psd)\n",
    "        assert freqs.ndim == 1, \"freqs must be a 1-D array of shape (n_freqs,)\"\n",
    "        assert psd.shape[-1] == freqs.shape[-1], \"n_freqs must be last axis of psd\"\n",
    "\n",
    "        # Extract frequencies of interest\n",
    "        all_freqs = np.hstack([[b[0], b[1]] for b in bands])\n",
    "        fmin, fmax = min(all_freqs), max(all_freqs)\n",
    "        idx_good_freq = np.logical_and(freqs >= fmin, freqs <= fmax)\n",
    "        freqs = freqs[idx_good_freq]\n",
    "        res = freqs[1] - freqs[0]\n",
    "\n",
    "        # Trim PSD to frequencies of interest\n",
    "        psd = psd[..., idx_good_freq]\n",
    "\n",
    "        # Check if there are negative values in PSD\n",
    "        if (psd < 0).any():\n",
    "            msg = (\n",
    "                \"There are negative values in PSD. This will result in incorrect \"\n",
    "                \"bandpower values. We highly recommend working with an \"\n",
    "                \"all-positive PSD. For more details, please refer to: \"\n",
    "                \"https://github.com/raphaelvallat/yasa/issues/29\"\n",
    "            )\n",
    "            logger.warning(msg)\n",
    "\n",
    "        # Calculate total power\n",
    "        total_power = simps(psd, dx=res, axis=-1)\n",
    "        total_power = total_power[np.newaxis, ...]\n",
    "\n",
    "        # Initialize empty array\n",
    "        bp = np.zeros((len(bands), *psd.shape[:-1]), dtype=np.float64)\n",
    "\n",
    "        # Enumerate over the frequency bands\n",
    "        labels = []\n",
    "        for i, band in enumerate(bands):\n",
    "            b0, b1, la = band\n",
    "            labels.append(la)\n",
    "            idx_band = np.logical_and(freqs >= b0, freqs <= b1)\n",
    "            bp[i] = simps(psd[..., idx_band], dx=res, axis=-1)\n",
    "\n",
    "        if relative:\n",
    "            bp /= total_power\n",
    "        return bp\n",
    "\n",
    "    # Compute bandpowers in N-dimensional PSD\n",
    "    bp = bandpower_from_psd_ndarray(psd, freqs)\n",
    "    bp = pd.DataFrame(\n",
    "        bp.T, columns=[\"delta\", \"theta\", \"alpha\", \"sigma\", \"beta\", \"gamma\"]\n",
    "    )\n",
    "    df_feat = pd.concat([df_feat, bp], axis=1)\n",
    "    df_feat.head()\n",
    "\n",
    "    # Ratio of spectral power\n",
    "    df_feat.eval(\"dt = delta / theta\", inplace=True)\n",
    "    df_feat.eval(\"da = delta / alpha\", inplace=True)\n",
    "    df_feat.eval(\"ds = delta / sigma\", inplace=True)\n",
    "    df_feat.eval(\"db = delta / beta\", inplace=True)\n",
    "    df_feat.eval(\"dg = delta / gamma\", inplace=True)\n",
    "\n",
    "    df_feat.eval(\"td = theta / delta\", inplace=True)\n",
    "    df_feat.eval(\"ta = theta / alpha\", inplace=True)\n",
    "    df_feat.eval(\"ts = theta / sigma\", inplace=True)\n",
    "    df_feat.eval(\"tb = theta / beta\", inplace=True)\n",
    "    df_feat.eval(\"tg = theta / gamma\", inplace=True)\n",
    "\n",
    "    df_feat.eval(\"ad = alpha / delta\", inplace=True)\n",
    "    df_feat.eval(\"at = alpha / theta\", inplace=True)\n",
    "    df_feat.eval(\"asi = alpha / sigma\", inplace=True)\n",
    "    df_feat.eval(\"ab = alpha / beta\", inplace=True)\n",
    "    df_feat.eval(\"ag = alpha / gamma\", inplace=True)\n",
    "\n",
    "    df_feat.eval(\"sd = sigma / delta\", inplace=True)\n",
    "    df_feat.eval(\"st = sigma / theta\", inplace=True)\n",
    "    df_feat.eval(\"sa = sigma / alpha\", inplace=True)\n",
    "    df_feat.eval(\"sb = sigma / beta\", inplace=True)\n",
    "    df_feat.eval(\"sg = sigma / gamma\", inplace=True)\n",
    "\n",
    "    df_feat.eval(\"bd = beta / delta\", inplace=True)\n",
    "    df_feat.eval(\"bt = beta / theta\", inplace=True)\n",
    "    df_feat.eval(\"ba = beta / alpha\", inplace=True)\n",
    "    df_feat.eval(\"bs = beta / sigma\", inplace=True)\n",
    "    df_feat.eval(\"bg = beta / gamma\", inplace=True)\n",
    "\n",
    "    df_feat.eval(\"gd = gamma / delta\", inplace=True)\n",
    "    df_feat.eval(\"gt = gamma / theta\", inplace=True)\n",
    "    df_feat.eval(\"ga = gamma / alpha\", inplace=True)\n",
    "    df_feat.eval(\"gs = gamma / sigma\", inplace=True)\n",
    "    df_feat.eval(\"gb = gamma / beta\", inplace=True)\n",
    "\n",
    "    df_feat.eval(\"ta_b = (theta + alpha)/beta\", inplace=True)\n",
    "    df_feat.eval(\"ta_ab = (theta + alpha)/(alpha + beta)\", inplace=True)\n",
    "    df_feat.eval(\"gb_da = (gamma + beta)/(delta + alpha)\", inplace=True)\n",
    "\n",
    "    df_feat.head()\n",
    "\n",
    "    def hjorth_activity(x):\n",
    "        \"\"\"Column-wise computation of Hjorth activity (variance).\"\"\"\n",
    "        return np.var(x, axis=0)\n",
    "\n",
    "    def hjorth_mobility(x):\n",
    "        \"\"\"Column-wise computation of Hjorth mobility\"\"\"\n",
    "        return np.sqrt(np.var(np.gradient(x, axis=0), axis=0) / np.var(x, axis=0))\n",
    "\n",
    "    def hjorth_complexity(x):\n",
    "        \"\"\"Column-wise computation of Hjorth complexity\"\"\"\n",
    "        return hjorth_mobility(np.gradient(x, axis=0)) / hjorth_mobility(x)\n",
    "\n",
    "    # Energy (E) of the signal is the sum of the squares of amplitude\n",
    "    def energy_fn(x):\n",
    "        x /= np.max(x)\n",
    "        return np.mean(x**2)\n",
    "\n",
    "    def calc_wavelet_energy(data_set):\n",
    "        \"\"\"\n",
    "        Input : 1 * N vector\n",
    "        Output: Float with the wavelet energy of the input vector,\n",
    "        rounded to 3 decimal places.\n",
    "        \"\"\"\n",
    "        # p_sqr = [i ** 2 for i in data_set]\n",
    "        wavelet_energy = np.nansum(np.log2(np.square(data_set)))\n",
    "        return round(wavelet_energy, 3)\n",
    "\n",
    "    E = np.apply_along_axis(energy_fn, 1, data_win)\n",
    "    df_feat[\"E\"] = E\n",
    "\n",
    "    from scipy.integrate import simps\n",
    "    from scipy.signal import welch\n",
    "\n",
    "    # Estimate power spectral density using Welch's method\n",
    "    freqs, psd = welch(data_win, sf, nperseg=int(4 * sf))\n",
    "\n",
    "    # Compute features\n",
    "    ## Compute featrues for normal singal (to compare w/ psd later)\n",
    "    hmob, hcomp = ant.hjorth_params(data_win, axis=1)\n",
    "    std_nor = np.apply_along_axis(np.std, 1, data_win, ddof=1)\n",
    "    mean_nor = np.apply_along_axis(np.mean, 1, data_win)\n",
    "    median_nor = np.apply_along_axis(np.median, 1, data_win)\n",
    "    iqr_nor = np.apply_along_axis(sp_stats.iqr, 1, data_win, rng=(25, 75))\n",
    "    skew_nor = np.apply_along_axis(sp_stats.skew, 1, data_win)\n",
    "    kurt_nor = np.apply_along_axis(sp_stats.kurtosis, 1, data_win)\n",
    "    hmob_nor = hmob\n",
    "    hcomp_nor = hcomp\n",
    "\n",
    "    ## Compute featrues for PSD\n",
    "    hmob, hcomp = ant.hjorth_params(psd, axis=1)\n",
    "    std_psd = np.apply_along_axis(np.std, 1, psd, ddof=1)\n",
    "    mean_psd = np.apply_along_axis(np.mean, 1, psd)\n",
    "    median_psd = np.apply_along_axis(np.median, 1, psd)\n",
    "    iqr_psd = np.apply_along_axis(sp_stats.iqr, 1, psd, rng=(25, 75))\n",
    "    skew_psd = np.apply_along_axis(sp_stats.skew, 1, psd)\n",
    "    kurt_psd = np.apply_along_axis(sp_stats.kurtosis, 1, psd)\n",
    "    hmob_psd = hmob\n",
    "    hcomp_psd = hcomp\n",
    "\n",
    "    # Add features to features dataframe\n",
    "    df_feat[\"E\"] = E\n",
    "    df_feat[\"std_psd\"] = std_psd\n",
    "    df_feat[\"mean_psd\"] = mean_psd\n",
    "    df_feat[\"iqr_psd\"] = iqr_psd\n",
    "    df_feat[\"skew_psd\"] = skew_psd\n",
    "    df_feat[\"kurt_psd\"] = kurt_psd\n",
    "    df_feat[\"hmob_psd\"] = hmob_psd\n",
    "    df_feat[\"hcomp_psd\"] = hcomp_psd\n",
    "\n",
    "    wavelet_energy = np.apply_along_axis(calc_wavelet_energy, 1, data_win)\n",
    "\n",
    "    # Add features to features dataframe\n",
    "    df_feat[\"WEn\"] = wavelet_energy\n",
    "\n",
    "    import math, sys\n",
    "\n",
    "    def __to_inc(x):\n",
    "        incs = x[1:] - x[:-1]\n",
    "        return incs\n",
    "\n",
    "    def __to_pct(x):\n",
    "        pcts = x[1:] / x[:-1] - 1.0\n",
    "        return pcts\n",
    "\n",
    "    def __get_RS(series, kind):\n",
    "        \"\"\"\n",
    "        Get rescaled range (using the range of cumulative sum\n",
    "        of deviations instead of the range of a series as in the simplified version\n",
    "        of R/S) from a time-series of values.\n",
    "        Parameters\n",
    "        ----------\n",
    "        series : array-like\n",
    "            (Time-)series\n",
    "        kind : str\n",
    "            The kind of series (refer to compute_Hc docstring)\n",
    "        \"\"\"\n",
    "\n",
    "        if kind == \"random_walk\":\n",
    "            incs = __to_inc(series)\n",
    "            mean_inc = (series[-1] - series[0]) / len(incs)\n",
    "            deviations = incs - mean_inc\n",
    "            Z = np.cumsum(deviations)\n",
    "            R = max(Z) - min(Z)\n",
    "            S = np.std(incs, ddof=1)\n",
    "\n",
    "        elif kind == \"price\":\n",
    "            incs = __to_pct(series)\n",
    "            mean_inc = np.sum(incs) / len(incs)\n",
    "            deviations = incs - mean_inc\n",
    "            Z = np.cumsum(deviations)\n",
    "            R = max(Z) - min(Z)\n",
    "            S = np.std(incs, ddof=1)\n",
    "\n",
    "        elif kind == \"change\":\n",
    "            incs = series\n",
    "            mean_inc = np.sum(incs) / len(incs)\n",
    "            deviations = incs - mean_inc\n",
    "            Z = np.cumsum(deviations)\n",
    "            R = max(Z) - min(Z)\n",
    "            S = np.std(incs, ddof=1)\n",
    "\n",
    "        if R == 0 or S == 0:\n",
    "            return 0  # return 0 to skip this interval due undefined R/S\n",
    "\n",
    "        return R / S\n",
    "\n",
    "    def __get_simplified_RS(series, kind):\n",
    "        \"\"\"\n",
    "        Simplified version of rescaled range\n",
    "        Parameters\n",
    "        ----------\n",
    "        series : array-like\n",
    "            (Time-)series\n",
    "        kind : str\n",
    "            The kind of series (refer to compute_Hc docstring)\n",
    "        \"\"\"\n",
    "\n",
    "        if kind == \"random_walk\":\n",
    "            incs = __to_inc(series)\n",
    "            R = max(series) - min(series)  # range in absolute values\n",
    "            S = np.std(incs, ddof=1)\n",
    "        elif kind == \"price\":\n",
    "            pcts = __to_pct(series)\n",
    "            R = max(series) / min(series) - 1.0  # range in percent\n",
    "            S = np.std(pcts, ddof=1)\n",
    "        elif kind == \"change\":\n",
    "            incs = series\n",
    "            _series = np.hstack([[0.0], np.cumsum(incs)])\n",
    "            R = max(_series) - min(_series)  # range in absolute values\n",
    "            S = np.std(incs, ddof=1)\n",
    "\n",
    "        if R == 0 or S == 0:\n",
    "            return 0  # return 0 to skip this interval due the undefined R/S ratio\n",
    "\n",
    "        return R / S\n",
    "\n",
    "    def compute_Hc(\n",
    "        series, kind=\"random_walk\", min_window=10, max_window=None, simplified=True\n",
    "    ):\n",
    "        \"\"\"\n",
    "        Compute H (Hurst exponent) and C according to Hurst equation:\n",
    "        E(R/S) = c * T^H\n",
    "        Refer to:\n",
    "        https://en.wikipedia.org/wiki/Hurst_exponent\n",
    "        https://en.wikipedia.org/wiki/Rescaled_range\n",
    "        https://en.wikipedia.org/wiki/Random_walk\n",
    "        Parameters\n",
    "        ----------\n",
    "        series : array-like\n",
    "            (Time-)series\n",
    "        kind : str\n",
    "            Kind of series\n",
    "            possible values are 'random_walk', 'change' and 'price':\n",
    "            - 'random_walk' means that a series is a random walk with random increments;\n",
    "            - 'price' means that a series is a random walk with random multipliers;\n",
    "            - 'change' means that a series consists of random increments\n",
    "                (thus produced random walk is a cumulative sum of increments);\n",
    "        min_window : int, default 10\n",
    "            the minimal window size for R/S calculation\n",
    "        max_window : int, default is the length of series minus 1\n",
    "            the maximal window size for R/S calculation\n",
    "        simplified : bool, default True\n",
    "            whether to use the simplified or the original version of R/S calculation\n",
    "        Returns tuple of\n",
    "            H, c and data\n",
    "            where H and c — parameters or Hurst equation\n",
    "            and data is a list of 2 lists: time intervals and R/S-values for correspoding time interval\n",
    "            for further plotting log(data[0]) on X and log(data[1]) on Y\n",
    "        \"\"\"\n",
    "\n",
    "        if len(series) < 100:\n",
    "            raise ValueError(\"Series length must be greater or equal to 100\")\n",
    "\n",
    "        ndarray_likes = [np.ndarray]\n",
    "        if \"pandas.core.series\" in sys.modules.keys():\n",
    "            ndarray_likes.append(pd.core.series.Series)\n",
    "\n",
    "        # convert series to np array if series is not np array or pandas Series\n",
    "        if type(series) not in ndarray_likes:\n",
    "            series = np.array(series)\n",
    "\n",
    "        if (\n",
    "            \"pandas.core.series\" in sys.modules.keys()\n",
    "            and type(series) == pd.core.series.Series\n",
    "        ):\n",
    "            if series.isnull().values.any():\n",
    "                raise ValueError(\"Series contains NaNs\")\n",
    "            series = series.values  # convert pandas Series to np array\n",
    "        elif np.isnan(np.min(series)):\n",
    "            raise ValueError(\"Series contains NaNs\")\n",
    "\n",
    "        if simplified:\n",
    "            RS_func = __get_simplified_RS\n",
    "        else:\n",
    "            RS_func = __get_RS\n",
    "\n",
    "        err = np.geterr()\n",
    "        np.seterr(all=\"raise\")\n",
    "\n",
    "        max_window = max_window or len(series) - 1\n",
    "        window_sizes = list(\n",
    "            map(\n",
    "                lambda x: int(10**x),\n",
    "                np.arange(math.log10(min_window), math.log10(max_window), 0.25),\n",
    "            )\n",
    "        )\n",
    "        window_sizes.append(len(series))\n",
    "\n",
    "        RS = []\n",
    "        for w in window_sizes:\n",
    "            rs = []\n",
    "            for start in range(0, len(series), w):\n",
    "                if (start + w) > len(series):\n",
    "                    break\n",
    "                _ = RS_func(series[start : start + w], kind)\n",
    "                if _ != 0:\n",
    "                    rs.append(_)\n",
    "            RS.append(np.mean(rs))\n",
    "\n",
    "        A = np.vstack([np.log10(window_sizes), np.ones(len(RS))]).T\n",
    "        H, c = np.linalg.lstsq(A, np.log10(RS), rcond=-1)[0]\n",
    "        np.seterr(**err)\n",
    "\n",
    "        c = 10**c\n",
    "        return H, c  # , [window_sizes, RS]\n",
    "\n",
    "    # H, c, [window_sizes, RS] = compute_Hc(data_win[0,:])\n",
    "\n",
    "    Hurst_coeffs = np.apply_along_axis(compute_Hc, 1, data_win, kind=\"random_walk\")\n",
    "    Hurst_H1 = Hurst_coeffs[:, 0]\n",
    "    Hurst_C1 = Hurst_coeffs[:, 1]\n",
    "    Hurst_coeffs = np.apply_along_axis(compute_Hc, 1, data_win, kind=\"change\")\n",
    "    Hurst_H2 = Hurst_coeffs[:, 0]\n",
    "    Hurst_C2 = Hurst_coeffs[:, 1]\n",
    "\n",
    "    import collections\n",
    "    import numpy as np\n",
    "    import scipy.stats as stat\n",
    "    from scipy.stats import iqr as IQR\n",
    "\n",
    "    class Outlier:\n",
    "        \"\"\"\n",
    "        Find outlier in a numerical dataset with two different methods:\n",
    "            - `sd_outlier`: z-score based method\n",
    "            - `IQR_outlier`: IQR based method\n",
    "        Also allows to remove/filter-out the detected outliers with `filter` method.\n",
    "        `plot` method allows you to plot the original and filtered dataset and inspect the performance.\n",
    "        \"\"\"\n",
    "\n",
    "        def __init__(self, x=None):\n",
    "            self.x = x\n",
    "            self.outliers = None\n",
    "            self.outliersIndices = np.array([])\n",
    "            self.x_filt = None\n",
    "\n",
    "        def sd_outlier(self=None, x=None, axis=None, bar=3, side=\"both\"):\n",
    "            \"\"\"\n",
    "            z-score based method\n",
    "            This method will test if the numbers falls outside the three standard deviations.\n",
    "            Based on this rule, if the value is outlier, the method will return true, if not, return false.\n",
    "            \"\"\"\n",
    "\n",
    "            assert side in [\"gt\", \"lt\", \"both\"], \"Side should be `gt`, `lt` or `both`.\"\n",
    "\n",
    "            if (x is None) and (self.x is not None):\n",
    "                x = self.x\n",
    "            elif (x is None) and (self.x is None):\n",
    "                raise ValueError(\"Enter x input!\")\n",
    "\n",
    "            d_z = stat.zscore(x, axis=axis)\n",
    "\n",
    "            if side == \"gt\":\n",
    "                self.outliers = d_z > bar\n",
    "                return d_z > bar\n",
    "            elif side == \"lt\":\n",
    "                self.outliers = d_z < -bar\n",
    "                return d_z < -bar\n",
    "            elif side == \"both\":\n",
    "                self.outliers = np.abs(d_z) > bar\n",
    "                return np.abs(d_z) > bar\n",
    "\n",
    "        def __Q1(self, x, axis=None):\n",
    "            if (x is None) and (self.x is not None):\n",
    "                x = self.x\n",
    "            elif (x is None) and (self.x is None):\n",
    "                raise ValueError(\"Enter x input!\")\n",
    "\n",
    "            return np.percentile(x, 25, axis=axis)\n",
    "\n",
    "        def __Q3(self, x, axis=None):\n",
    "            if (x is None) and (self.x is not None):\n",
    "                x = self.x\n",
    "            elif (x is None) and (self.x is None):\n",
    "                raise ValueError(\"Enter x input!\")\n",
    "\n",
    "            return np.percentile(x, 75, axis=axis)\n",
    "\n",
    "        def IQR_outlier(self, x=None, axis=None, bar=1.5, side=\"both\"):\n",
    "            \"\"\"\n",
    "            IQR based method\n",
    "            This method will test if the value is less than q1 - 1.5 * iqr or\n",
    "            greater than q3 + 1.5 * iqr.\n",
    "            \"\"\"\n",
    "            self.method = \"IQR_outlier\"\n",
    "\n",
    "            assert side in [\"gt\", \"lt\", \"both\"], \"Side should be `gt`, `lt` or `both`.\"\n",
    "\n",
    "            if (x is None) and (self.x is not None):\n",
    "                x = self.x\n",
    "            elif (x is None) and (self.x is None):\n",
    "                raise ValueError(\"Enter x input!\")\n",
    "\n",
    "            d_IQR = IQR(x, axis=axis)\n",
    "            d_Q1 = self.__Q1(x, axis=axis)\n",
    "            d_Q3 = self.__Q3(x, axis=axis)\n",
    "            IQR_distance = np.multiply(d_IQR, bar)\n",
    "\n",
    "            stat_shape = list(x.shape)\n",
    "\n",
    "            if isinstance(axis, collections.Iterable):\n",
    "                for single_axis in axis:\n",
    "                    stat_shape[single_axis] = 1\n",
    "            else:\n",
    "                stat_shape[axis] = 1\n",
    "\n",
    "            if side in [\"gt\", \"both\"]:\n",
    "                upper_range = d_Q3 + IQR_distance\n",
    "                upper_outlier = np.greater(x - upper_range.reshape(stat_shape), 0)\n",
    "            if side in [\"lt\", \"both\"]:\n",
    "                lower_range = d_Q1 - IQR_distance\n",
    "                lower_outlier = np.less(x - lower_range.reshape(stat_shape), 0)\n",
    "\n",
    "            if side == \"gt\":\n",
    "                self.outliers = upper_outlier\n",
    "                return upper_outlier\n",
    "            if side == \"lt\":\n",
    "                self.outliers = lower_outlier\n",
    "                return lower_outlier\n",
    "            if side == \"both\":\n",
    "                self.outliers = np.logical_or(upper_outlier, lower_outlier)\n",
    "                return np.logical_or(upper_outlier, lower_outlier)\n",
    "\n",
    "        def filter(self, x=None):\n",
    "            if (x is None) and (self.x is not None):\n",
    "                x = self.x\n",
    "            elif (x is None) and (self.x is None):\n",
    "                raise ValueError(\"Enter x input!\")\n",
    "\n",
    "            self.outliersIndices = np.where(self.outliers == True)\n",
    "            print(f\"Outliers are detected in {len(self.outliersIndices[0])} points.\")\n",
    "            self.x_filt = np.copy(x)\n",
    "            self.x_filt[self.outliersIndices] = np.mean(x[~self.outliers])\n",
    "            return self.x_filt, self.outliersIndices[0]\n",
    "\n",
    "        def plot(self, plot_original=False):\n",
    "            pass\n",
    "\n",
    "    # detect and remove outliers from Hurst coefficients\n",
    "    outlier = Outlier(np.asarray(Hurst_H1))\n",
    "    outlier.IQR_outlier(axis=0, bar=1.5, side=\"both\")\n",
    "    filtered, outlierIndices = outlier.filter()\n",
    "    outlier.plot(plot_original=True)\n",
    "    Hurst_H1 = filtered\n",
    "\n",
    "    # detect and remove outliers from Hurst coefficients\n",
    "    outlier = Outlier(np.asarray(Hurst_H2))\n",
    "    outlier.IQR_outlier(axis=0, bar=1.5, side=\"both\")\n",
    "    filtered, outlierIndices = outlier.filter()\n",
    "    outlier.plot(plot_original=True)\n",
    "    Hurst_H2 = filtered\n",
    "\n",
    "    # detect and remove outliers from Hurst coefficients\n",
    "    outlier = Outlier(np.asarray(Hurst_C1))\n",
    "    outlier.IQR_outlier(axis=0, bar=1.5, side=\"both\")\n",
    "    filtered, outlierIndices = outlier.filter()\n",
    "    outlier.plot(plot_original=True)\n",
    "    Hurst_C1 = filtered\n",
    "\n",
    "    # detect and remove outliers from Hurst coefficients\n",
    "    outlier = Outlier(np.asarray(Hurst_C2))\n",
    "    outlier.IQR_outlier(axis=0, bar=1.5, side=\"both\")\n",
    "    filtered, outlierIndices = outlier.filter()\n",
    "    outlier.plot(plot_original=True)\n",
    "    Hurst_C2 = filtered\n",
    "\n",
    "    def calc_mean_and_ctm(X, Y):\n",
    "        # features = pd.DataFrame(columns=['radius','mean_distance','central_tendency_measure'])\n",
    "        r = 0.5\n",
    "        d = [math.sqrt(X[i] * X[i] + Y[i] * Y[i]) for i in range(0, len(X))]\n",
    "        delta = [1 if i < r else 0 for i in d]\n",
    "        d = [i for i in d if i < r]\n",
    "\n",
    "        ctm = np.sum(delta[:-2]) / (len(delta) - 2)\n",
    "        mean_distance = np.mean(d)\n",
    "\n",
    "        # features.loc[0] = [r] + [ctm] + [mean_distance]\n",
    "        return r, ctm, mean_distance\n",
    "\n",
    "    def mean_ctm_wrapper(x):\n",
    "        \"\"\"\n",
    "        A wrapper function for calc_mean_and_ctm().\n",
    "        This function calculates mean and central tendancy measure for a given time series `x`.\n",
    "\n",
    "        Parameters\n",
    "        ----------\n",
    "        x : :py:class:`np.ndarray`\n",
    "            Array of time series data. Must be a 1-D array of shape `(dataPoints,)`\n",
    "\n",
    "        Returns\n",
    "        -------\n",
    "        Tuple of `mean_distance` and `central_tendency_measure`\n",
    "\n",
    "        Example\n",
    "        -------\n",
    "            >>> y = np.random.randn(7680)*10 + 100\n",
    "            >>> md, ctm = mean_ctm_wrapper(y)\n",
    "            (0.054281767955801107, 0.33950566436214885)\n",
    "        \"\"\"\n",
    "        upper_quartile = np.percentile(x, 80)\n",
    "        lower_quartile = np.percentile(x, 20)\n",
    "        IQR = (upper_quartile - lower_quartile) * 1.5\n",
    "        quartileSet = (lower_quartile - IQR, upper_quartile + IQR)\n",
    "        x = x[np.where((x >= quartileSet[0]) & (x <= quartileSet[1]))]\n",
    "        # plotting SODP\n",
    "        X = np.subtract(x[1:], x[0:-1])  # x(n+1)-x(n)\n",
    "        Y = np.subtract(x[2:], x[0:-2]).tolist()  # x(n+2)-x(n-1)\n",
    "        Y.extend([0])\n",
    "        # calculate MD and CTM\n",
    "        _, mean_distance, central_tendency_measure = calc_mean_and_ctm(X, Y)\n",
    "        return mean_distance, central_tendency_measure\n",
    "\n",
    "    # Calculate feature for all epochs. Then add them to FeaturesDataFrame\n",
    "    mean_ctm = np.apply_along_axis(mean_ctm_wrapper, 1, arr=data_win)\n",
    "    df_feat[\"mean_distance\"] = mean_ctm[:, 0]\n",
    "    df_feat[\"central_tendency_measure\"] = mean_ctm[:, 1]\n",
    "\n",
    "    from collections import Counter\n",
    "\n",
    "    class Counter(Counter):\n",
    "        def prob(self):\n",
    "            return np.array(list(self.values()))\n",
    "\n",
    "    def symbols_to_prob(symbols):\n",
    "        \"\"\"\n",
    "        Return a dict mapping symbols to  probability.\n",
    "        input:\n",
    "        -----\n",
    "            symbols:     iterable of hashable items\n",
    "                        works well if symbols is a zip of iterables\n",
    "        \"\"\"\n",
    "        myCounter = Counter(symbols)\n",
    "\n",
    "        N = float(len(list(symbols)))  # symbols might be a zip object in python 3\n",
    "\n",
    "        for k in myCounter:\n",
    "            myCounter[k] /= N\n",
    "\n",
    "        return myCounter\n",
    "\n",
    "    def entropy(data=None, prob=None, tol=1e-5):\n",
    "        \"\"\"\n",
    "        given a probability distribution (prob) or an interable of symbols (data) compute and\n",
    "        return its entropy\n",
    "        inputs:\n",
    "        ------\n",
    "            data:       iterable of symbols\n",
    "            prob:       iterable with probabilities\n",
    "            tol:        if prob is given, 'entropy' checks that the sum is about 1.\n",
    "                        It raises an error if abs(sum(prob)-1) >= tol\n",
    "        \"\"\"\n",
    "\n",
    "        if prob is None and data is None:\n",
    "            raise ValueError(\n",
    "                \"%s.entropy requires either 'prob' or 'data' to be defined\" % __name__\n",
    "            )\n",
    "\n",
    "        if prob is not None and data is not None:\n",
    "            raise ValueError(\n",
    "                \"%s.entropy requires only 'prob' or 'data to be given but not both\"\n",
    "                % __name__\n",
    "            )\n",
    "\n",
    "        if prob is not None and not isinstance(prob, np.ndarray):\n",
    "            raise TypeError(\n",
    "                \"'entropy' in '%s' needs 'prob' to be an ndarray\" % __name__\n",
    "            )\n",
    "\n",
    "        if prob is not None and abs(prob.sum() - 1) > tol:\n",
    "            raise ValueError(\n",
    "                \"parameter 'prob' in '%s.entropy' should sum to 1\" % __name__\n",
    "            )\n",
    "\n",
    "        if data is not None:\n",
    "            prob = symbols_to_prob(data).prob()\n",
    "\n",
    "        # compute the log2 of the probability and change any -inf by 0s\n",
    "        logProb = np.log2(prob)\n",
    "        logProb[logProb == -np.inf] = 0\n",
    "\n",
    "        # return dot product of logProb and prob\n",
    "        return -float(np.dot(prob, logProb))\n",
    "\n",
    "    def renyi(data=None, a=2):\n",
    "        if data is not None:\n",
    "            prob = symbols_to_prob(data).prob()\n",
    "\n",
    "        # compute the log2 of the probability and change any -inf by 0s\n",
    "        powerProb = prob ** int(a)\n",
    "        logProb = np.log(powerProb)\n",
    "        # return dot product of logProb and prob\n",
    "        return -(a / (1 - a)) * (np.sum(logProb))\n",
    "\n",
    "    data_win_rnd3 = np.around(data_win, decimals=3)\n",
    "    renyiEnt = np.apply_along_axis(renyi, 1, arr=data_win_rnd3)\n",
    "    df_feat[\"renyi\"] = renyiEnt\n",
    "\n",
    "    # Manis and Sassi, “A Python Library with Fast Algorithms for Popular Entropy Definitions.”\n",
    "\n",
    "    from numpy import histogram, log\n",
    "\n",
    "    def bubble_count(x):\n",
    "        \"\"\"\n",
    "        counts the number of swaps when sorting\n",
    "        :param x: the input vector\n",
    "        :return: the total number of swaps\n",
    "        \"\"\"\n",
    "        y = 0\n",
    "        for i in range(len(x) - 1, 0, -1):\n",
    "            for j in range(i):\n",
    "                if x[j] > x[j + 1]:\n",
    "                    x[j], x[j + 1] = x[j + 1], x[j]\n",
    "                    y += 1\n",
    "        return y\n",
    "\n",
    "    def complexity_count_fast(x, m):\n",
    "        \"\"\"\n",
    "        :param x: the input series\n",
    "        :param m: the dimension of the space\n",
    "        :return: the series of complexities for total number of swaps\n",
    "        \"\"\"\n",
    "\n",
    "        if len(x) < m:\n",
    "            return []\n",
    "\n",
    "        y = [bubble_count(x[:m])]\n",
    "        v = sorted(x[:m])\n",
    "\n",
    "        for i in range(m, len(x)):\n",
    "            steps = y[i - m]\n",
    "            steps -= v.index(x[i - m])\n",
    "            v.pop(v.index(x[i - m]))\n",
    "            v.append(x[i])\n",
    "            j = m - 1\n",
    "            while j > 0 and v[j] < v[j - 1]:\n",
    "                v[j], v[j - 1] = v[j - 1], v[j]\n",
    "                steps += 1\n",
    "                j -= 1\n",
    "            y.append(steps)\n",
    "\n",
    "        return y\n",
    "\n",
    "    def renyi_int(data):\n",
    "        \"\"\"\n",
    "        returns renyi entropy (order 2) of an integer series and bin_size=1\n",
    "        (specified for the needs of bubble entropy)\n",
    "        :param data: the input series\n",
    "        :return: metric\n",
    "        \"\"\"\n",
    "        counter = [0] * (max(data) + 1)\n",
    "        for x in data:\n",
    "            counter[x] += 1\n",
    "        r = 0\n",
    "        for c in counter:\n",
    "            p = c / len(data)\n",
    "            r += p * p\n",
    "        return -log(r)\n",
    "\n",
    "    def bubble_entropy(x, m=10):\n",
    "        \"\"\"\n",
    "        computes bubble entropy following the definition\n",
    "        :param x: the input signal\n",
    "        :param m: the dimension of the embedding space\n",
    "        :return: metric\n",
    "        \"\"\"\n",
    "        complexity = complexity_count_fast(x, m)\n",
    "        B = renyi_int(complexity) / log(1 + m * (m - 1) / 2)\n",
    "\n",
    "        complexity = complexity_count_fast(x, m + 1)\n",
    "        A = renyi_int(complexity) / log(1 + (m + 1) * m / 2)\n",
    "\n",
    "        return A - B\n",
    "\n",
    "    def bubble_entropy_2(x, m=10):\n",
    "        \"\"\"\n",
    "        computes bubble entropy following the definition\n",
    "        :param x: the input signal\n",
    "        :param m: the dimension of the embedding space\n",
    "        :return: metric\n",
    "        \"\"\"\n",
    "        complexity = complexity_count_fast(x, m)\n",
    "        B = renyi_int(complexity) / log(1 + m * (m - 1) / 2)\n",
    "\n",
    "        complexity = complexity_count_fast(x, m + 2)\n",
    "        A = renyi_int(complexity) / log(1 + (m + 2) * (m + 1) / 2)\n",
    "\n",
    "        return A - B\n",
    "\n",
    "    # This cell took ~40 seconds from ~8 hours of sleep data\n",
    "\n",
    "    # Calculate feature for all epochs. Then add them to FeaturesDataFrame\n",
    "    data_win_rnd3 = np.around(data_win, decimals=3)\n",
    "    bubbleEnt1 = np.apply_along_axis(bubble_entropy, 1, arr=data_win_rnd3)\n",
    "    df_feat[\"bubbleEnt1\"] = bubbleEnt1\n",
    "\n",
    "    # Calculate feature for all epochs. Then add them to FeaturesDataFrame\n",
    "    data_win_rnd3 = np.around(data_win, decimals=3)\n",
    "    bubbleEnt2 = np.apply_along_axis(bubble_entropy_2, 1, arr=data_win_rnd3)\n",
    "    df_feat[\"bubbleEnt2\"] = bubbleEnt2\n",
    "\n",
    "    from scipy.stats import differential_entropy\n",
    "\n",
    "    # Calculate feature for all epochs. Then add them to FeaturesDataFrame\n",
    "    data_win_rnd3 = np.around(data_win, decimals=3)\n",
    "    diffEnt = np.apply_along_axis(differential_entropy, 1, arr=data_win_rnd3)\n",
    "    diffEntMean = np.mean(diffEnt[~(diffEnt == -np.inf)])\n",
    "    diffEnt[diffEnt == -np.inf] = diffEntMean\n",
    "    df_feat[\"diffEnt\"] = diffEnt\n",
    "\n",
    "    # Write feature object to a comma-separated values (csv) file\n",
    "    df_feat.to_csv(df_feat_loc, index=False)\n",
    "\n",
    "    print(f\"================= DONE {name} ===================\")\n"
   ]
  }
 ],
 "metadata": {
  "kernelspec": {
   "display_name": "Python 3.9.10 ('mne')",
   "language": "python",
   "name": "python3"
  },
  "language_info": {
   "codemirror_mode": {
    "name": "ipython",
    "version": 3
   },
   "file_extension": ".py",
   "mimetype": "text/x-python",
   "name": "python",
   "nbconvert_exporter": "python",
   "pygments_lexer": "ipython3",
   "version": "3.9.10"
  },
  "orig_nbformat": 4,
  "vscode": {
   "interpreter": {
    "hash": "e9461a3eb0cbef873800a78c94f0b6f375dc71a03d464463d7b611af82b6cd16"
   }
  }
 },
 "nbformat": 4,
 "nbformat_minor": 2
}
