{
 "cells": [
  {
   "cell_type": "markdown",
   "metadata": {},
   "source": [
    "Some plottings for sleep stages and their distribution in our recordings \n",
    "\n",
    "Code for database curation and making `reference_df`"
   ]
  },
  {
   "cell_type": "code",
   "execution_count": 3,
   "metadata": {},
   "outputs": [],
   "source": [
    "import numpy as np\n",
    "import mne\n",
    "from scipy import signal\n",
    "from scipy.interpolate import RectBivariateSpline\n",
    "from mne.filter import resample, filter_data\n",
    "import pandas as pd\n",
    "import seaborn as sns\n",
    "import matplotlib.pyplot as plt\n",
    "from lspopt import spectrogram_lspopt\n",
    "from matplotlib.colors import Normalize, ListedColormap\n",
    "\n",
    "import logging\n",
    "LOGGING_TYPES = dict(DEBUG=logging.DEBUG, INFO=logging.INFO, WARNING=logging.WARNING,\n",
    "                     ERROR=logging.ERROR, CRITICAL=logging.CRITICAL)\n",
    "logger = logging.getLogger('yasa')\n",
    "\n",
    "%matplotlib qt"
   ]
  },
  {
   "cell_type": "markdown",
   "metadata": {},
   "source": [
    "Load feature object as a dataframe PXNX"
   ]
  },
  {
   "cell_type": "code",
   "execution_count": 4,
   "metadata": {},
   "outputs": [],
   "source": [
    "\n",
    "# fname = \"P17_N2\"\n",
    "# lr = \"L\"\n",
    "\n",
    "# df_feat = pd.read_csv(f\"feature/{fname} {lr}.csv\", index_col=False)\n",
    "\n",
    "# location_hypno = \"/Users/amirhosseindaraie/Desktop/data/synced-hypnos-merged\"\n",
    "# hypno_30s = np.loadtxt(\n",
    "#     f\"{location_hypno}/{fname.split('_')[0].lower()}{fname.split('_')[1].lower()}_synced.txt\"\n",
    "# )[:, 0]\n"
   ]
  },
  {
   "cell_type": "markdown",
   "metadata": {},
   "source": [
    "Load feature object as a dataframe QS"
   ]
  },
  {
   "cell_type": "code",
   "execution_count": 5,
   "metadata": {},
   "outputs": [],
   "source": [
    "fname = \"QS 38\"\n",
    "lr = \"R\"\n",
    "\n",
    "# df_feat = pd.read_csv(f\"feature/{fname} {lr}.csv\", index_col=False)\n",
    "\n",
    "location_hypno = \"/Users/amirhosseindaraie/Desktop/data/synced-hypnos-merged\"\n",
    "hypno_30s = np.loadtxt(f\"{location_hypno}/session_{fname.split(' ')[1]}_synced.txt\")[:, 0]\n"
   ]
  },
  {
   "cell_type": "markdown",
   "metadata": {},
   "source": [
    "Plot histogram of stages distribution and see what is the distribution of different sleep stages. "
   ]
  },
  {
   "cell_type": "code",
   "execution_count": 6,
   "metadata": {},
   "outputs": [
    {
     "name": "stdout",
     "output_type": "stream",
     "text": [
      "changing 5 to 4 in QS 38 R\n"
     ]
    }
   ],
   "source": [
    "stages, counts = np.unique(hypno_30s, return_counts=True)\n",
    "if -1 not in stages:\n",
    "    print(f\"no artifcat in {fname} {lr}\")\n",
    "    stages = np.insert(stages, 0, -1)\n",
    "    counts = np.insert(counts, 0, 0)\n",
    "if (4 not in stages) and (5 in stages):\n",
    "    print(f\"changing 5 to 4 in {fname} {lr}\")\n",
    "    stages[-1] = 4  # change 5 to 4\n",
    "fig, ax = plt.subplots(figsize = [4, 5])\n",
    "ax.bar(stages, counts, color=\"blue\")\n",
    "ax.set(xticks= np.arange(-1, 4+1, 1), xticklabels=[\"Artifact\",\"Wake\",\"N1\",\"N2\",\"N3\",\"REM\"])\n",
    "plt.xlabel(\"Sleep stage\")\n",
    "plt.ylabel(\"Count\")\n",
    "plt.title(f\"Sleep stages {fname} {lr}\")\n",
    "plt.tight_layout()\n",
    "# plt.savefig(\"stage_distribution_single_6.png\")\n",
    "# plt.savefig(\"stage_distribution_single_6.svg\")\n",
    "plt.show()"
   ]
  },
  {
   "cell_type": "markdown",
   "metadata": {},
   "source": [
    "Load all hypnograms and count numbers "
   ]
  },
  {
   "cell_type": "code",
   "execution_count": 7,
   "metadata": {},
   "outputs": [],
   "source": [
    "p_hypnos = [\"P18_N3 L\",\"P18_N2 R\",\"P17_N2 L\",\"P15_N3 L\",\"P15_N2 L\",\"P13_N3 L\",\"P13_N2 L\",\"P12_N3 L\",\"P11_N3 L\",\"P8_N3 L\"]\n",
    "\n",
    "qs_hypnos = [\"QS 11 L\",\"QS 12 R\",\"QS 13 L\",\"QS 15 L\",\"QS 16 L\",\"QS 18 R\",\"QS 19 L\",\"QS 20 R\",\"QS 21 R\",\"QS 22 L\",\"QS 24 R\",\"QS 25 R\",\"QS 26 R\",\"QS 28 R\",\"QS 32 R\",\"QS 34 L\",\"QS 35 R\",\"QS 36 R\",\"QS 37 R\",\"QS 38 R\",\"QS 39 R\",\"QS 40 R\",\"QS 41 L\",\"QS 42 R\",\"QS 45 R\",\"QS 46 R\",\"QS 47 R\",\"QS 48 R\",\"QS 49 R\",\"QS 50 R\",\"QS 51 R\",\"QS 52 R\",\"QS 53 R\",\"QS 54 L\",\"QS 55 R\",\"QS 56 L\",\"QS 57 L\",\"QS 58 L\",\"QS 60 L\",\"QS 61 L\",\"QS 63 L\",\"QS 64 L\",\"QS 66 L\",\"QS 68 L\",\"QS 70 L\",\"QS 71 L\",\"QS 72 L\",\"QS 73 L\",\"QS 79 L\",\"QS 82 L\",\"QS 96 L\"]\n",
    "\n",
    "stages_matrix = np.array([[-1,0,1,2,3,4]])"
   ]
  },
  {
   "cell_type": "code",
   "execution_count": 7,
   "metadata": {},
   "outputs": [],
   "source": [
    "# for PXNX\n",
    "\n",
    "for i in range(len(p_hypnos)):\n",
    "    fname, lr = p_hypnos[i].split(\" \")\n",
    "    location_hypno = \"/Users/amirhosseindaraie/Desktop/data/synced-hypnos-merged\"\n",
    "    hypno_30s = np.loadtxt(\n",
    "        f\"{location_hypno}/{fname.split('_')[0].lower()}{fname.split('_')[1].lower()}_synced.txt\"\n",
    "    )[:, 0]\n",
    "    stages, counts = np.unique(hypno_30s, return_counts=True)\n",
    "    if -1 not in stages:\n",
    "        stages = np.insert(stages, 0, -1)\n",
    "        counts = np.insert(counts, 0, 0)\n",
    "    if (4 not in stages) and (5 in stages):\n",
    "        print(f\"changing 5 to 4 in {p_hypnos[i]}\")\n",
    "        stages[-1] = 4  # change 5 to 4\n",
    "    stages_matrix = np.append(stages_matrix, [counts], axis=0)\n"
   ]
  },
  {
   "cell_type": "code",
   "execution_count": 8,
   "metadata": {},
   "outputs": [],
   "source": [
    "# for QS\n",
    "\n",
    "for i in range(len(qs_hypnos)):\n",
    "    _, n, lr = qs_hypnos[i].split(\" \")\n",
    "    location_hypno = \"/Users/amirhosseindaraie/Desktop/data/synced-hypnos-merged\"\n",
    "    hypno_30s = np.loadtxt(\n",
    "        f\"{location_hypno}/session_{n}_synced.txt\"\n",
    "    )[:, 0]\n",
    "    stages, counts = np.unique(hypno_30s, return_counts=True)\n",
    "    if -1 not in stages:\n",
    "        stages = np.insert(stages, 0, -1)\n",
    "        counts = np.insert(counts, 0, 0)\n",
    "    if (4 not in stages) and (5 in stages):\n",
    "        #print(f\"changing 5 to 4 in {qs_hypnos[i]}\")\n",
    "        stages[-1] = 4 # change 5 to 4\n",
    "    stages_matrix = np.append(stages_matrix,[counts],axis=0)\n"
   ]
  },
  {
   "cell_type": "code",
   "execution_count": 9,
   "metadata": {},
   "outputs": [
    {
     "data": {
      "text/plain": [
       "(62, 6)"
      ]
     },
     "execution_count": 9,
     "metadata": {},
     "output_type": "execute_result"
    }
   ],
   "source": [
    "stages_matrix.shape"
   ]
  },
  {
   "cell_type": "code",
   "execution_count": 10,
   "metadata": {},
   "outputs": [
    {
     "data": {
      "text/plain": [
       "array([[ -1,   0,   1,   2,   3,   4],\n",
       "       [  0,  45,  66, 441, 135, 262],\n",
       "       [211,  24,  51, 402, 178, 164],\n",
       "       [457, 221, 102, 246,  60,  51],\n",
       "       [ 60, 352,   6, 261, 216,  31],\n",
       "       [ 88,  33,  46, 339, 108, 115]])"
      ]
     },
     "execution_count": 10,
     "metadata": {},
     "output_type": "execute_result"
    }
   ],
   "source": [
    "stages_matrix[:6,:]"
   ]
  },
  {
   "cell_type": "markdown",
   "metadata": {},
   "source": [
    "Plot sleep distribution over all nights"
   ]
  },
  {
   "cell_type": "code",
   "execution_count": 11,
   "metadata": {},
   "outputs": [],
   "source": [
    "fig, ax = plt.subplots(figsize = [5, 5])\n",
    "for i in range(stages_matrix.shape[0]-1):\n",
    "    ax.scatter(stages_matrix[0,:]+np.random.rand()/3,stages_matrix[i,:], alpha=0.2)\n",
    "ax.set(xticks= np.arange(-1+0.2, 4+1+0.2, 1), xticklabels=[\"Artifact\",\"Wake\",\"N1\",\"N2\",\"N3\",\"REM\"])\n",
    "box1 = ax.boxplot(stages_matrix, positions=np.arange(-1+0.2, 4+1+0.2, 1), manage_ticks=False, showfliers=False, widths = 0.5, patch_artist = True, medianprops={\"linewidth\": 2}, whiskerprops={\"linewidth\": 2.5}, capprops={\"linewidth\": 2})\n",
    "c2 = \"purple\"\n",
    "# for item in ['boxes', 'whiskers', 'fliers', 'medians', 'caps']:\n",
    "plt.setp(box1[\"boxes\"], color=\"mediumvioletred\")\n",
    "plt.setp(box1[\"whiskers\"], color=\"mediumvioletred\")\n",
    "plt.setp(box1[\"medians\"], color=\"gold\")\n",
    "plt.title(f\"Distribution of sleep stages across {stages_matrix.shape[0]-1} recordings\")\n",
    "plt.xlabel(\"Sleep stage\")\n",
    "plt.ylabel(\"Count\")\n",
    "plt.tight_layout()\n",
    "# plt.savefig(\"stage_distribution.svg\")\n",
    "# plt.savefig(\"stage_distribution.png\")\n",
    "plt.show()\n",
    "\n"
   ]
  },
  {
   "cell_type": "code",
   "execution_count": 21,
   "metadata": {},
   "outputs": [],
   "source": [
    "# save all as a dataframe\n",
    "reference_df = pd.DataFrame()\n",
    "# reference_df = pd.DataFrame(reference_df.values[1:], columns=reference_df.iloc[0])\n",
    "\n",
    "hypnos = p_hypnos.copy()\n",
    "hypnos.extend(qs_hypnos)\n",
    "\n",
    "reference_df[\"name\"] = hypnos\n",
    "reference_df = reference_df.set_index(\"name\")\n",
    "\n",
    "for pname in p_hypnos:\n",
    "    fname = pname.split(\" \")[0]\n",
    "    location_hypno = \"/Users/amirhosseindaraie/Desktop/data/synced-hypnos-merged\"\n",
    "    hypno_30s = f\"{location_hypno}/{fname.split('_')[0].lower()}{fname.split('_')[1].lower()}_synced.txt\"\n",
    "    reference_df.loc[pname, \"hypno\"] = hypno_30s\n",
    "\n",
    "for qsname in qs_hypnos:\n",
    "    _, n, lr = qsname.split(\" \")\n",
    "    location_hypno = \"/Users/amirhosseindaraie/Desktop/data/synced-hypnos-merged\"\n",
    "    hypno_30s = f\"{location_hypno}/session_{n}_synced.txt\"\n",
    "    reference_df.loc[qsname, \"hypno\"] = hypno_30s\n",
    "\n",
    "for pname in p_hypnos:\n",
    "    fname, lr = pname.split(\" \")\n",
    "    df_feat = f\"feature/{fname} {lr}.csv\"\n",
    "    reference_df.loc[pname, \"df_feat\"] = df_feat\n",
    "\n",
    "for qsname in qs_hypnos:\n",
    "    fname = qsname.split(\" \")[0] + \" \" + qsname.split(\" \")[1]\n",
    "    lr = qsname.split(\" \")[2]\n",
    "    df_feat = f\"feature/{fname} {lr}.csv\"\n",
    "    reference_df.loc[qsname, \"df_feat\"] = df_feat\n",
    "\n",
    "for pname in p_hypnos:\n",
    "    fname, lr = pname.split(\" \")\n",
    "    eeg_location = (\n",
    "        f\"/Users/amirhosseindaraie/Desktop/data/autoscoring-material/data/QS/{fname}\"\n",
    "    )\n",
    "    df_feat = f\"feature/{fname} {lr}.csv\"\n",
    "    reference_df.loc[pname, \"df_feat\"] = df_feat\n",
    "\n",
    "for qsname in qs_hypnos:\n",
    "    fname = qsname.split(\" \")[0] + \" \" + qsname.split(\" \")[1]\n",
    "    lr = qsname.split(\" \")[2]\n",
    "    df_feat = f\"feature/{fname} {lr}.csv\"\n",
    "    reference_df.loc[qsname, \"df_feat\"] = df_feat\n",
    "\n",
    "for pname in p_hypnos:\n",
    "    fname, lr = pname.split(\" \")\n",
    "    eeg_location = f\"/Users/amirhosseindaraie/Desktop/data/autoscoring-material/data/Zmax Donders/{fname}/EEG {lr}.edf\"\n",
    "    reference_df.loc[pname, \"eeg\"] = eeg_location\n",
    "\n",
    "for qsname in qs_hypnos:\n",
    "    fname = qsname.split(\" \")[0]\n",
    "    fnumber = qsname.split(\" \")[1]\n",
    "    lr = qsname.split(\" \")[2]\n",
    "    eeg_location = f\"/Users/amirhosseindaraie/Desktop/data/autoscoring-material/data/QS/{fnumber}/EEG {lr}.edf\"\n",
    "    reference_df.loc[qsname, \"eeg\"] = eeg_location\n"
   ]
  },
  {
   "cell_type": "code",
   "execution_count": 23,
   "metadata": {},
   "outputs": [
    {
     "data": {
      "text/html": [
       "<div>\n",
       "<style scoped>\n",
       "    .dataframe tbody tr th:only-of-type {\n",
       "        vertical-align: middle;\n",
       "    }\n",
       "\n",
       "    .dataframe tbody tr th {\n",
       "        vertical-align: top;\n",
       "    }\n",
       "\n",
       "    .dataframe thead th {\n",
       "        text-align: right;\n",
       "    }\n",
       "</style>\n",
       "<table border=\"1\" class=\"dataframe\">\n",
       "  <thead>\n",
       "    <tr style=\"text-align: right;\">\n",
       "      <th></th>\n",
       "      <th>hypno</th>\n",
       "      <th>df_feat</th>\n",
       "      <th>eeg</th>\n",
       "    </tr>\n",
       "    <tr>\n",
       "      <th>name</th>\n",
       "      <th></th>\n",
       "      <th></th>\n",
       "      <th></th>\n",
       "    </tr>\n",
       "  </thead>\n",
       "  <tbody>\n",
       "    <tr>\n",
       "      <th>P18_N3 L</th>\n",
       "      <td>/Users/amirhosseindaraie/Desktop/data/synced-h...</td>\n",
       "      <td>feature/P18_N3 L.csv</td>\n",
       "      <td>/Users/amirhosseindaraie/Desktop/data/autoscor...</td>\n",
       "    </tr>\n",
       "    <tr>\n",
       "      <th>P18_N2 R</th>\n",
       "      <td>/Users/amirhosseindaraie/Desktop/data/synced-h...</td>\n",
       "      <td>feature/P18_N2 R.csv</td>\n",
       "      <td>/Users/amirhosseindaraie/Desktop/data/autoscor...</td>\n",
       "    </tr>\n",
       "    <tr>\n",
       "      <th>P17_N2 L</th>\n",
       "      <td>/Users/amirhosseindaraie/Desktop/data/synced-h...</td>\n",
       "      <td>feature/P17_N2 L.csv</td>\n",
       "      <td>/Users/amirhosseindaraie/Desktop/data/autoscor...</td>\n",
       "    </tr>\n",
       "    <tr>\n",
       "      <th>P15_N3 L</th>\n",
       "      <td>/Users/amirhosseindaraie/Desktop/data/synced-h...</td>\n",
       "      <td>feature/P15_N3 L.csv</td>\n",
       "      <td>/Users/amirhosseindaraie/Desktop/data/autoscor...</td>\n",
       "    </tr>\n",
       "    <tr>\n",
       "      <th>P15_N2 L</th>\n",
       "      <td>/Users/amirhosseindaraie/Desktop/data/synced-h...</td>\n",
       "      <td>feature/P15_N2 L.csv</td>\n",
       "      <td>/Users/amirhosseindaraie/Desktop/data/autoscor...</td>\n",
       "    </tr>\n",
       "  </tbody>\n",
       "</table>\n",
       "</div>"
      ],
      "text/plain": [
       "                                                      hypno  \\\n",
       "name                                                          \n",
       "P18_N3 L  /Users/amirhosseindaraie/Desktop/data/synced-h...   \n",
       "P18_N2 R  /Users/amirhosseindaraie/Desktop/data/synced-h...   \n",
       "P17_N2 L  /Users/amirhosseindaraie/Desktop/data/synced-h...   \n",
       "P15_N3 L  /Users/amirhosseindaraie/Desktop/data/synced-h...   \n",
       "P15_N2 L  /Users/amirhosseindaraie/Desktop/data/synced-h...   \n",
       "\n",
       "                       df_feat  \\\n",
       "name                             \n",
       "P18_N3 L  feature/P18_N3 L.csv   \n",
       "P18_N2 R  feature/P18_N2 R.csv   \n",
       "P17_N2 L  feature/P17_N2 L.csv   \n",
       "P15_N3 L  feature/P15_N3 L.csv   \n",
       "P15_N2 L  feature/P15_N2 L.csv   \n",
       "\n",
       "                                                        eeg  \n",
       "name                                                         \n",
       "P18_N3 L  /Users/amirhosseindaraie/Desktop/data/autoscor...  \n",
       "P18_N2 R  /Users/amirhosseindaraie/Desktop/data/autoscor...  \n",
       "P17_N2 L  /Users/amirhosseindaraie/Desktop/data/autoscor...  \n",
       "P15_N3 L  /Users/amirhosseindaraie/Desktop/data/autoscor...  \n",
       "P15_N2 L  /Users/amirhosseindaraie/Desktop/data/autoscor...  "
      ]
     },
     "execution_count": 23,
     "metadata": {},
     "output_type": "execute_result"
    }
   ],
   "source": [
    "reference_df.head()"
   ]
  },
  {
   "cell_type": "code",
   "execution_count": 24,
   "metadata": {},
   "outputs": [
    {
     "data": {
      "text/plain": [
       "'/Users/amirhosseindaraie/Desktop/data/synced-hypnos-merged/p18n3_synced.txt'"
      ]
     },
     "execution_count": 24,
     "metadata": {},
     "output_type": "execute_result"
    }
   ],
   "source": [
    "reference_df.loc[\"P18_N3 L\",\"hypno\"]"
   ]
  },
  {
   "cell_type": "code",
   "execution_count": 25,
   "metadata": {},
   "outputs": [],
   "source": [
    "# write to csv    \n",
    "reference_df.to_csv(\"reference_df.csv\")"
   ]
  },
  {
   "cell_type": "code",
   "execution_count": 26,
   "metadata": {},
   "outputs": [],
   "source": [
    "# load csv    \n",
    "reference_df = pd.read_csv(\"reference_df.csv\", index_col=\"name\")"
   ]
  },
  {
   "cell_type": "code",
   "execution_count": 27,
   "metadata": {},
   "outputs": [
    {
     "data": {
      "text/html": [
       "<div>\n",
       "<style scoped>\n",
       "    .dataframe tbody tr th:only-of-type {\n",
       "        vertical-align: middle;\n",
       "    }\n",
       "\n",
       "    .dataframe tbody tr th {\n",
       "        vertical-align: top;\n",
       "    }\n",
       "\n",
       "    .dataframe thead th {\n",
       "        text-align: right;\n",
       "    }\n",
       "</style>\n",
       "<table border=\"1\" class=\"dataframe\">\n",
       "  <thead>\n",
       "    <tr style=\"text-align: right;\">\n",
       "      <th></th>\n",
       "      <th>hypno</th>\n",
       "      <th>df_feat</th>\n",
       "      <th>eeg</th>\n",
       "    </tr>\n",
       "    <tr>\n",
       "      <th>name</th>\n",
       "      <th></th>\n",
       "      <th></th>\n",
       "      <th></th>\n",
       "    </tr>\n",
       "  </thead>\n",
       "  <tbody>\n",
       "    <tr>\n",
       "      <th>P18_N3 L</th>\n",
       "      <td>/Users/amirhosseindaraie/Desktop/data/synced-h...</td>\n",
       "      <td>feature/P18_N3 L.csv</td>\n",
       "      <td>/Users/amirhosseindaraie/Desktop/data/autoscor...</td>\n",
       "    </tr>\n",
       "    <tr>\n",
       "      <th>P18_N2 R</th>\n",
       "      <td>/Users/amirhosseindaraie/Desktop/data/synced-h...</td>\n",
       "      <td>feature/P18_N2 R.csv</td>\n",
       "      <td>/Users/amirhosseindaraie/Desktop/data/autoscor...</td>\n",
       "    </tr>\n",
       "    <tr>\n",
       "      <th>P17_N2 L</th>\n",
       "      <td>/Users/amirhosseindaraie/Desktop/data/synced-h...</td>\n",
       "      <td>feature/P17_N2 L.csv</td>\n",
       "      <td>/Users/amirhosseindaraie/Desktop/data/autoscor...</td>\n",
       "    </tr>\n",
       "    <tr>\n",
       "      <th>P15_N3 L</th>\n",
       "      <td>/Users/amirhosseindaraie/Desktop/data/synced-h...</td>\n",
       "      <td>feature/P15_N3 L.csv</td>\n",
       "      <td>/Users/amirhosseindaraie/Desktop/data/autoscor...</td>\n",
       "    </tr>\n",
       "    <tr>\n",
       "      <th>P15_N2 L</th>\n",
       "      <td>/Users/amirhosseindaraie/Desktop/data/synced-h...</td>\n",
       "      <td>feature/P15_N2 L.csv</td>\n",
       "      <td>/Users/amirhosseindaraie/Desktop/data/autoscor...</td>\n",
       "    </tr>\n",
       "  </tbody>\n",
       "</table>\n",
       "</div>"
      ],
      "text/plain": [
       "                                                      hypno  \\\n",
       "name                                                          \n",
       "P18_N3 L  /Users/amirhosseindaraie/Desktop/data/synced-h...   \n",
       "P18_N2 R  /Users/amirhosseindaraie/Desktop/data/synced-h...   \n",
       "P17_N2 L  /Users/amirhosseindaraie/Desktop/data/synced-h...   \n",
       "P15_N3 L  /Users/amirhosseindaraie/Desktop/data/synced-h...   \n",
       "P15_N2 L  /Users/amirhosseindaraie/Desktop/data/synced-h...   \n",
       "\n",
       "                       df_feat  \\\n",
       "name                             \n",
       "P18_N3 L  feature/P18_N3 L.csv   \n",
       "P18_N2 R  feature/P18_N2 R.csv   \n",
       "P17_N2 L  feature/P17_N2 L.csv   \n",
       "P15_N3 L  feature/P15_N3 L.csv   \n",
       "P15_N2 L  feature/P15_N2 L.csv   \n",
       "\n",
       "                                                        eeg  \n",
       "name                                                         \n",
       "P18_N3 L  /Users/amirhosseindaraie/Desktop/data/autoscor...  \n",
       "P18_N2 R  /Users/amirhosseindaraie/Desktop/data/autoscor...  \n",
       "P17_N2 L  /Users/amirhosseindaraie/Desktop/data/autoscor...  \n",
       "P15_N3 L  /Users/amirhosseindaraie/Desktop/data/autoscor...  \n",
       "P15_N2 L  /Users/amirhosseindaraie/Desktop/data/autoscor...  "
      ]
     },
     "execution_count": 27,
     "metadata": {},
     "output_type": "execute_result"
    }
   ],
   "source": [
    "reference_df.head()\n"
   ]
  },
  {
   "cell_type": "markdown",
   "metadata": {},
   "source": [
    "# how to use it?"
   ]
  },
  {
   "cell_type": "code",
   "execution_count": 28,
   "metadata": {},
   "outputs": [
    {
     "name": "stdout",
     "output_type": "stream",
     "text": [
      "Filtering raw data in 1 contiguous segment\n",
      "Setting up band-pass filter from 0.5 - 45 Hz\n",
      "\n",
      "FIR filter parameters\n",
      "---------------------\n",
      "Designing a one-pass, zero-phase, non-causal bandpass filter:\n",
      "- Windowed time-domain design (firwin) method\n",
      "- Hamming window with 0.0194 passband ripple and 53 dB stopband attenuation\n",
      "- Lower passband edge: 0.50\n",
      "- Lower transition bandwidth: 0.50 Hz (-6 dB cutoff frequency: 0.25 Hz)\n",
      "- Upper passband edge: 45.00 Hz\n",
      "- Upper transition bandwidth: 11.25 Hz (-6 dB cutoff frequency: 50.62 Hz)\n",
      "- Filter length: 1691 samples (6.605 sec)\n",
      "\n"
     ]
    }
   ],
   "source": [
    "### to see id's\n",
    "idx = reference_df.index.to_list()\n",
    "\n",
    "### to load hypno:\n",
    "hypno_loc = reference_df.loc[idx[0], \"hypno\"]\n",
    "hypno_30s = np.loadtxt(hypno_loc)[:, 0]\n",
    "\n",
    "### to load features:\n",
    "df_feat_loc = reference_df.loc[idx[0], \"df_feat\"]\n",
    "df_feat = pd.read_csv(df_feat_loc, index_col=False)\n",
    "\n",
    "### to load eeg:\n",
    "eeg_loc = reference_df.loc[idx[0], \"eeg\"]\n",
    "raw = mne.io.read_raw_edf(eeg_loc, preload=True, verbose=0)\n",
    "raw.pick_types(eeg=True)\n",
    "raw.filter(0.5, 45)\n",
    "data = raw._data * 1e6 # : extract the data and convert from V to uV\n",
    "\n",
    "# TODO: bellow\n",
    "### to load augmented hypno:\n",
    "\n",
    "### to load features for augmented eeg:\n",
    "\n",
    "### to load augmented eeg:\n",
    "\n"
   ]
  },
  {
   "cell_type": "code",
   "execution_count": 29,
   "metadata": {},
   "outputs": [
    {
     "data": {
      "text/plain": [
       "array([[-8.13151629e-14,  9.09186409e-02,  1.06409628e-01, ...,\n",
       "         2.92763896e+01,  1.60886104e+01,  3.81164826e-14]])"
      ]
     },
     "execution_count": 29,
     "metadata": {},
     "output_type": "execute_result"
    }
   ],
   "source": [
    "data"
   ]
  }
 ],
 "metadata": {
  "kernelspec": {
   "display_name": "Python 3.9.10 ('mne')",
   "language": "python",
   "name": "python3"
  },
  "language_info": {
   "codemirror_mode": {
    "name": "ipython",
    "version": 3
   },
   "file_extension": ".py",
   "mimetype": "text/x-python",
   "name": "python",
   "nbconvert_exporter": "python",
   "pygments_lexer": "ipython3",
   "version": "3.9.10"
  },
  "orig_nbformat": 4,
  "vscode": {
   "interpreter": {
    "hash": "e9461a3eb0cbef873800a78c94f0b6f375dc71a03d464463d7b611af82b6cd16"
   }
  }
 },
 "nbformat": 4,
 "nbformat_minor": 2
}
