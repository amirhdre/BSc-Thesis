{
 "cells": [
  {
   "cell_type": "markdown",
   "metadata": {},
   "source": [
    "# Data for one participant "
   ]
  },
  {
   "cell_type": "code",
   "execution_count": 21,
   "metadata": {},
   "outputs": [],
   "source": [
    "import numpy as np\n",
    "import mne\n",
    "from scipy import signal\n",
    "from scipy.interpolate import RectBivariateSpline\n",
    "from mne.filter import resample, filter_data\n",
    "import pandas as pd\n",
    "import seaborn as sns\n",
    "import matplotlib.pyplot as plt\n",
    "from lspopt import spectrogram_lspopt\n",
    "from matplotlib.colors import Normalize, ListedColormap\n",
    "\n",
    "import logging\n",
    "LOGGING_TYPES = dict(DEBUG=logging.DEBUG, INFO=logging.INFO, WARNING=logging.WARNING,\n",
    "                     ERROR=logging.ERROR, CRITICAL=logging.CRITICAL)\n",
    "logger = logging.getLogger('yasa')\n",
    "\n",
    "%matplotlib qt"
   ]
  },
  {
   "cell_type": "code",
   "execution_count": 22,
   "metadata": {},
   "outputs": [],
   "source": [
    "fname = \"P8_N3\"\n",
    "\n",
    "# Load feature object as a dataframe\n",
    "df_feat = pd.read_csv(f\"feature {fname} L.csv\", index_col=False)\n"
   ]
  },
  {
   "cell_type": "code",
   "execution_count": 23,
   "metadata": {},
   "outputs": [],
   "source": [
    "def normalize(v):\n",
    "    norm = np.linalg.norm(v)\n",
    "    if norm == 0:\n",
    "        return v\n",
    "    return v / norm\n"
   ]
  },
  {
   "cell_type": "code",
   "execution_count": 24,
   "metadata": {},
   "outputs": [],
   "source": [
    "bands = [\"delta\", \"theta\", \"alpha\", \"sigma\", \"beta\", \"gamma\"]\n",
    "bands_power = list()\n",
    "\n",
    "for i, band in enumerate(bands):\n",
    "    bands_power.append(np.mean(df_feat[band]))"
   ]
  },
  {
   "cell_type": "code",
   "execution_count": 25,
   "metadata": {},
   "outputs": [],
   "source": [
    "name = fname.split(\"_\")[0]\n",
    "\n",
    "list_all = {\n",
    "    \"name\": name,\n",
    "    \"delta\": bands_power[0],\n",
    "    \"theta\": bands_power[1],\n",
    "    \"alpha\": bands_power[2],\n",
    "    \"sigma\": bands_power[3],\n",
    "    \"beta\" : bands_power[4],\n",
    "    \"gamma\": bands_power[5],\n",
    "}"
   ]
  },
  {
   "cell_type": "code",
   "execution_count": 26,
   "metadata": {},
   "outputs": [
    {
     "data": {
      "text/html": [
       "<div>\n",
       "<style scoped>\n",
       "    .dataframe tbody tr th:only-of-type {\n",
       "        vertical-align: middle;\n",
       "    }\n",
       "\n",
       "    .dataframe tbody tr th {\n",
       "        vertical-align: top;\n",
       "    }\n",
       "\n",
       "    .dataframe thead th {\n",
       "        text-align: right;\n",
       "    }\n",
       "</style>\n",
       "<table border=\"1\" class=\"dataframe\">\n",
       "  <thead>\n",
       "    <tr style=\"text-align: right;\">\n",
       "      <th></th>\n",
       "      <th>name</th>\n",
       "      <th>delta</th>\n",
       "      <th>theta</th>\n",
       "      <th>alpha</th>\n",
       "      <th>sigma</th>\n",
       "      <th>beta</th>\n",
       "      <th>gamma</th>\n",
       "    </tr>\n",
       "  </thead>\n",
       "  <tbody>\n",
       "    <tr>\n",
       "      <th>0</th>\n",
       "      <td>P8</td>\n",
       "      <td>0.859619</td>\n",
       "      <td>0.056825</td>\n",
       "      <td>0.035743</td>\n",
       "      <td>0.020715</td>\n",
       "      <td>0.019733</td>\n",
       "      <td>0.007364</td>\n",
       "    </tr>\n",
       "  </tbody>\n",
       "</table>\n",
       "</div>"
      ],
      "text/plain": [
       "  name     delta     theta     alpha     sigma      beta     gamma\n",
       "0   P8  0.859619  0.056825  0.035743  0.020715  0.019733  0.007364"
      ]
     },
     "execution_count": 26,
     "metadata": {},
     "output_type": "execute_result"
    }
   ],
   "source": [
    "df_all = pd.DataFrame([list_all])\n",
    "df_all.head()"
   ]
  },
  {
   "cell_type": "code",
   "execution_count": 34,
   "metadata": {},
   "outputs": [
    {
     "data": {
      "text/html": [
       "<div>\n",
       "<style scoped>\n",
       "    .dataframe tbody tr th:only-of-type {\n",
       "        vertical-align: middle;\n",
       "    }\n",
       "\n",
       "    .dataframe tbody tr th {\n",
       "        vertical-align: top;\n",
       "    }\n",
       "\n",
       "    .dataframe thead th {\n",
       "        text-align: right;\n",
       "    }\n",
       "</style>\n",
       "<table border=\"1\" class=\"dataframe\">\n",
       "  <thead>\n",
       "    <tr style=\"text-align: right;\">\n",
       "      <th></th>\n",
       "      <th>name</th>\n",
       "      <th>delta</th>\n",
       "      <th>theta</th>\n",
       "      <th>alpha</th>\n",
       "      <th>sigma</th>\n",
       "      <th>beta</th>\n",
       "      <th>gamma</th>\n",
       "    </tr>\n",
       "  </thead>\n",
       "  <tbody>\n",
       "    <tr>\n",
       "      <th>0</th>\n",
       "      <td>P8</td>\n",
       "      <td>0.859619</td>\n",
       "      <td>0.056825</td>\n",
       "      <td>0.035743</td>\n",
       "      <td>0.020715</td>\n",
       "      <td>0.019733</td>\n",
       "      <td>0.007364</td>\n",
       "    </tr>\n",
       "    <tr>\n",
       "      <th>0</th>\n",
       "      <td>P11</td>\n",
       "      <td>0.848579</td>\n",
       "      <td>0.069301</td>\n",
       "      <td>0.030136</td>\n",
       "      <td>0.016484</td>\n",
       "      <td>0.025617</td>\n",
       "      <td>0.009883</td>\n",
       "    </tr>\n",
       "    <tr>\n",
       "      <th>0</th>\n",
       "      <td>P12</td>\n",
       "      <td>0.859627</td>\n",
       "      <td>0.074566</td>\n",
       "      <td>0.034923</td>\n",
       "      <td>0.011800</td>\n",
       "      <td>0.014240</td>\n",
       "      <td>0.004844</td>\n",
       "    </tr>\n",
       "    <tr>\n",
       "      <th>0</th>\n",
       "      <td>P15</td>\n",
       "      <td>0.857458</td>\n",
       "      <td>0.044644</td>\n",
       "      <td>0.021870</td>\n",
       "      <td>0.016155</td>\n",
       "      <td>0.036041</td>\n",
       "      <td>0.023832</td>\n",
       "    </tr>\n",
       "    <tr>\n",
       "      <th>0</th>\n",
       "      <td>P17</td>\n",
       "      <td>0.830060</td>\n",
       "      <td>0.055438</td>\n",
       "      <td>0.037397</td>\n",
       "      <td>0.023324</td>\n",
       "      <td>0.038856</td>\n",
       "      <td>0.014926</td>\n",
       "    </tr>\n",
       "  </tbody>\n",
       "</table>\n",
       "</div>"
      ],
      "text/plain": [
       "  name     delta     theta     alpha     sigma      beta     gamma\n",
       "0   P8  0.859619  0.056825  0.035743  0.020715  0.019733  0.007364\n",
       "0  P11  0.848579  0.069301  0.030136  0.016484  0.025617  0.009883\n",
       "0  P12  0.859627  0.074566  0.034923  0.011800  0.014240  0.004844\n",
       "0  P15  0.857458  0.044644  0.021870  0.016155  0.036041  0.023832\n",
       "0  P17  0.830060  0.055438  0.037397  0.023324  0.038856  0.014926"
      ]
     },
     "execution_count": 34,
     "metadata": {},
     "output_type": "execute_result"
    }
   ],
   "source": [
    "# repeat the above procedure for other participants \n",
    "# run the code bellow for each participant \n",
    "\n",
    "fname = \"P22_N2\"\n",
    "df_feat = pd.read_csv(f\"feature {fname} L.csv\", index_col=False)\n",
    "bands = [\"delta\", \"theta\", \"alpha\", \"sigma\", \"beta\", \"gamma\"]\n",
    "bands_power = list()\n",
    "for i, band in enumerate(bands):\n",
    "    bands_power.append(np.mean(df_feat[band]))\n",
    "name = fname.split(\"_\")[0]\n",
    "list_all = {\n",
    "    \"name\": name,\n",
    "    \"delta\": bands_power[0],\n",
    "    \"theta\": bands_power[1],\n",
    "    \"alpha\": bands_power[2],\n",
    "    \"sigma\": bands_power[3],\n",
    "    \"beta\" : bands_power[4],\n",
    "    \"gamma\": bands_power[5],\n",
    "}\n",
    "# add for others\n",
    "df_new = pd.DataFrame([list_all])\n",
    "df_all = pd.concat([df_all,df_new])\n",
    "df_all.head()"
   ]
  },
  {
   "cell_type": "code",
   "execution_count": 37,
   "metadata": {},
   "outputs": [],
   "source": [
    "# Write all feature object to a comma-separated values (csv) file\n",
    "df_all.to_csv(f\"df_all.csv\", index=False)\n"
   ]
  },
  {
   "cell_type": "code",
   "execution_count": 38,
   "metadata": {},
   "outputs": [],
   "source": [
    "# Load all feature object as a dataframe\n",
    "df_all = pd.read_csv(f\"df_all.csv\", index_col=False)\n"
   ]
  },
  {
   "cell_type": "code",
   "execution_count": 138,
   "metadata": {},
   "outputs": [],
   "source": [
    "fig, axes = plt.subplots(len(bands),1, sharex=True, figsize=(7,8))\n",
    "\n",
    "bands_description = [\n",
    "    \"Delta (0.5, 4) Hz\",\n",
    "    \"Theta (4, 8) Hz\",\n",
    "    \"Alpha (8, 12) Hz\",\n",
    "    \"Sigma (12, 16) Hz\",\n",
    "    \"Beta (16, 30) Hz\",\n",
    "    \"Gamma (30, 40) Hz\"\n",
    "]\n",
    "\n",
    "for i in range(len(bands)):\n",
    "    axes[i].set_xticks(range(len(df_all[\"name\"].values.tolist())))\n",
    "    axes[i].set_xticklabels(df_all[\"name\"].values.tolist())\n",
    "    np.argmax(df_all[bands[i]])\n",
    "    max_idx = np.argmax(df_all[bands[i]])\n",
    "    min_idx = np.argmin(df_all[bands[i]])\n",
    "    max = df_all[bands[i]][max_idx]\n",
    "    min = df_all[bands[i]][min_idx]\n",
    "    std = np.std(df_all[bands[i]])\n",
    "    axes[i].plot([max_idx, max_idx],[min-std, max+std], '-.', color='silver', linewidth=3)\n",
    "    axes[i].plot(df_all[bands[i]],'--',color=\"mediumseagreen\")\n",
    "    axes[i].plot(df_all[bands[i]],'o', c=f\"C{np.random.randint(0,20)}\")\n",
    "    axes[i].set_title(bands_description[i],fontsize=11)\n",
    "\n",
    "plt.tight_layout()\n",
    "plt.savefig(\"main_figure.svg\")\n",
    "plt.show()\n"
   ]
  },
  {
   "cell_type": "code",
   "execution_count": 73,
   "metadata": {},
   "outputs": [
    {
     "data": {
      "text/plain": [
       "3"
      ]
     },
     "execution_count": 73,
     "metadata": {},
     "output_type": "execute_result"
    }
   ],
   "source": []
  },
  {
   "cell_type": "code",
   "execution_count": 48,
   "metadata": {},
   "outputs": [
    {
     "data": {
      "text/plain": [
       "['P8', 'P11', 'P12', 'P15', 'P17', 'P18', 'P20', 'P21', 'P22']"
      ]
     },
     "execution_count": 48,
     "metadata": {},
     "output_type": "execute_result"
    }
   ],
   "source": [
    "df_all[\"name\"].values.tolist()"
   ]
  },
  {
   "cell_type": "code",
   "execution_count": null,
   "metadata": {},
   "outputs": [],
   "source": []
  }
 ],
 "metadata": {
  "interpreter": {
   "hash": "e9461a3eb0cbef873800a78c94f0b6f375dc71a03d464463d7b611af82b6cd16"
  },
  "kernelspec": {
   "display_name": "Python 3.9.10 ('mne')",
   "language": "python",
   "name": "python3"
  },
  "language_info": {
   "codemirror_mode": {
    "name": "ipython",
    "version": 3
   },
   "file_extension": ".py",
   "mimetype": "text/x-python",
   "name": "python",
   "nbconvert_exporter": "python",
   "pygments_lexer": "ipython3",
   "version": "3.9.10"
  },
  "orig_nbformat": 4
 },
 "nbformat": 4,
 "nbformat_minor": 2
}
